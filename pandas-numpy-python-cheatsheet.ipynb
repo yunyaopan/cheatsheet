{
  "metadata": {
    "kernelspec": {
      "display_name": "Python 3",
      "language": "python",
      "name": "python3"
    },
    "language_info": {
      "name": "python",
      "version": "3.6.6",
      "mimetype": "text/x-python",
      "codemirror_mode": {
        "name": "ipython",
        "version": 3
      },
      "pygments_lexer": "ipython3",
      "nbconvert_exporter": "python",
      "file_extension": ".py"
    },
    "toc": {
      "base_numbering": 1,
      "nav_menu": {},
      "number_sections": true,
      "sideBar": true,
      "skip_h1_title": false,
      "title_cell": "Table of Contents",
      "title_sidebar": "Contents",
      "toc_cell": false,
      "toc_position": {
        "height": "calc(100% - 180px)",
        "left": "10px",
        "top": "150px",
        "width": "230px"
      },
      "toc_section_display": true,
      "toc_window_display": true
    },
    "colab": {
      "provenance": [],
      "toc_visible": true
    }
  },
  "nbformat_minor": 0,
  "nbformat": 4,
  "cells": [
    {
      "cell_type": "markdown",
      "source": [
        "## Python Data Structures"
      ],
      "metadata": {
        "id": "ym6mDIqEJFNi"
      }
    },
    {
      "cell_type": "markdown",
      "source": [
        "resource: https://www.programiz.com/python-programming\n",
        "\n",
        "There are two things to keep in mind for each of the data types you are using:\n",
        "\n",
        "1. Are they **mutable**?\n",
        "    - Mutability is about whether or not we can change an object once it has been created. A list can be changed so it is mutable. However, strings cannot be changed without creating a completely new object, so they are immutable.\n",
        "2. Are they **ordered**?\n",
        "    - Order is about whether the order of the elements in an object matters, and whether this position of an element can be used to access the element. Both strings and lists are ordered. We can use the order to access parts of a list and string.\n",
        "- For each of the upcoming data structures you see, it is useful to understand how you index, are they mutable, and are they ordered.\n",
        "- Additionally, you will see how these each have different methods, so why you would use one data structure vs. another is largely dependent on these properties, and what you can easily do with it!"
      ],
      "metadata": {
        "id": "oX6goBeJJFNl"
      }
    },
    {
      "cell_type": "markdown",
      "source": [
        "## String\n",
        "- either single or double quotations"
      ],
      "metadata": {
        "id": "xuZHHE9mVFuo"
      }
    },
    {
      "cell_type": "markdown",
      "source": [
        "### Multi line"
      ],
      "metadata": {
        "id": "kJLNSFq6fwXD"
      }
    },
    {
      "cell_type": "code",
      "source": [
        "hello = \"hello\\nworld\"\n",
        "print(hello)"
      ],
      "metadata": {
        "colab": {
          "base_uri": "https://localhost:8080/"
        },
        "id": "pqdmcM1PffiK",
        "outputId": "d1a281eb-817b-4b76-84de-dbd99a6c89f6"
      },
      "execution_count": 42,
      "outputs": [
        {
          "output_type": "stream",
          "name": "stdout",
          "text": [
            "hello\n",
            "world\n"
          ]
        }
      ]
    },
    {
      "cell_type": "code",
      "source": [
        "# Python's triple quote syntax for strings lets us include newlines literally (i.e. by just hitting 'Enter' on our keyboard, rather than using the special '\\n' sequence).\n",
        "triplequoted_hello = \"\"\"hello\n",
        "world\"\"\"\n",
        "print(triplequoted_hello)"
      ],
      "metadata": {
        "colab": {
          "base_uri": "https://localhost:8080/"
        },
        "id": "gE15nwj5ftpy",
        "outputId": "2872edf7-8aa5-4ce4-d2fa-c1e37d15091c"
      },
      "execution_count": 43,
      "outputs": [
        {
          "output_type": "stream",
          "name": "stdout",
          "text": [
            "hello\n",
            "world\n"
          ]
        }
      ]
    },
    {
      "cell_type": "code",
      "source": [
        "# The print() function automatically adds a newline character unless we specify a value for the keyword argument end other than the default value of '\\n':\n",
        "print(\"hello\")\n",
        "print(\"world\")\n",
        "print(\"hello\", end='')\n",
        "print(\"pluto\", end='')"
      ],
      "metadata": {
        "colab": {
          "base_uri": "https://localhost:8080/"
        },
        "id": "9OI_GXf4f9UH",
        "outputId": "260ac488-d418-4745-b9e4-43aade4cb153"
      },
      "execution_count": 44,
      "outputs": [
        {
          "output_type": "stream",
          "name": "stdout",
          "text": [
            "hello\n",
            "world\n",
            "hellopluto"
          ]
        }
      ]
    },
    {
      "cell_type": "markdown",
      "source": [
        "Concatenate string"
      ],
      "metadata": {
        "id": "elI7UPXHhBn0"
      }
    },
    {
      "cell_type": "code",
      "source": [
        "planet ='Pluto'\n",
        "planet + ', we miss you.' #output: Pluto, we miss you.\n",
        "\n",
        "position = 9\n",
        "planet + \", you'll always be the \" + str(position) + \"th planet to me.\" #output: Pluto, you'll always be the 9th planet to me.\n",
        "\n",
        "#shortform of the above\n",
        "\"{}, you'll always be the {}th planet to me.\".format(planet, position) #output: Pluto, you'll always be the 9th planet to me.\n",
        "\n",
        "# Referring to format() arguments by index, starting from 0\n",
        "s = \"\"\"Pluto's a {0}.\n",
        "No, it's a {1}.\n",
        "{0}!\n",
        "{1}!\"\"\".format('planet', 'dwarf planet')\n",
        "print(s)\n",
        "#output:\n",
        "#Pluto's a planet.\n",
        "#No, it's a dwarf planet.\n",
        "#planet!\n",
        "#dwarf planet!\n"
      ],
      "metadata": {
        "colab": {
          "base_uri": "https://localhost:8080/"
        },
        "id": "mRCJ7EM6hFWj",
        "outputId": "cf832f07-713a-4732-950a-0364186a063c"
      },
      "execution_count": 54,
      "outputs": [
        {
          "output_type": "stream",
          "name": "stdout",
          "text": [
            "Pluto's a planet.\n",
            "No, it's a dwarf planet.\n",
            "planet!\n",
            "dwarf planet!\n"
          ]
        }
      ]
    },
    {
      "cell_type": "markdown",
      "source": [
        "split()"
      ],
      "metadata": {
        "id": "7h56QxC-gXi3"
      }
    },
    {
      "cell_type": "code",
      "source": [
        "claim = \"Pluto is a planet!\"\n",
        "words = claim.split()\n",
        "words\n",
        "#output: ['Pluto', 'is', 'a', 'planet!']\n",
        "\n",
        "datestr = '1956-01-31'\n",
        "year, month, day = datestr.split('-')\n",
        "year\n",
        "#output: '1956'"
      ],
      "metadata": {
        "colab": {
          "base_uri": "https://localhost:8080/",
          "height": 35
        },
        "id": "P9D0SdqCgR_y",
        "outputId": "f5e16a33-9a06-4881-ae0e-7c08b249f2f4"
      },
      "execution_count": 48,
      "outputs": [
        {
          "output_type": "execute_result",
          "data": {
            "text/plain": [
              "'1956'"
            ],
            "application/vnd.google.colaboratory.intrinsic+json": {
              "type": "string"
            }
          },
          "metadata": {},
          "execution_count": 48
        }
      ]
    },
    {
      "cell_type": "markdown",
      "source": [
        "### join()"
      ],
      "metadata": {
        "id": "4GI9mO-MJFOM"
      }
    },
    {
      "cell_type": "code",
      "source": [
        "# join() returns a string consisting of the list elements joined by a separator string.\n",
        "# Takes only a list of strings as an argument\n",
        "name = \"-\".join([\"Grace\", \"Kelly\"])\n",
        "print(name) # Grace-Kelly"
      ],
      "metadata": {
        "_kg_hide-output": false,
        "execution": {
          "iopub.status.busy": "2022-12-17T07:08:37.938702Z",
          "iopub.status.idle": "2022-12-17T07:08:37.939217Z"
        },
        "trusted": true,
        "colab": {
          "base_uri": "https://localhost:8080/"
        },
        "id": "KBWcEdygJFOM",
        "outputId": "4ca9a6e6-2636-484b-86f9-c1bb622f9f87"
      },
      "execution_count": 39,
      "outputs": [
        {
          "output_type": "stream",
          "name": "stdout",
          "text": [
            "Grace-Kelly\n"
          ]
        }
      ]
    },
    {
      "cell_type": "markdown",
      "source": [
        "## Lists[]\n",
        "**mutable, ordered sequence of elements.**\n",
        "- Mix of data types.\n",
        "- Are ordered - can lookup elements by index.\n",
        "- Are mutable - can be changed."
      ],
      "metadata": {
        "id": "EogBi7QRJFNm"
      }
    },
    {
      "cell_type": "markdown",
      "source": [
        "### create list and access list items"
      ],
      "metadata": {
        "id": "mfyEItbqJFOH"
      }
    },
    {
      "cell_type": "code",
      "source": [
        "list_of_random_things = [ '1st string','2nd string' ,True,\"last string\"]\n",
        "\n",
        "print (\"first item:\"+list_of_random_things[0]);\n",
        "print (\"last item:\"+ list_of_random_things[-1]); #last element\n",
        "\n",
        "#slicing\n",
        "list_of_random_things[1:3] #['2nd string', True, 'last string']\n",
        "list_of_random_things[:2]  # ['1st string', '2nd string']\n",
        "list_of_random_things[1:] # ['2nd string', True, 'last string']\n"
      ],
      "metadata": {
        "_kg_hide-output": false,
        "execution": {
          "iopub.status.busy": "2022-12-17T07:08:37.579031Z",
          "iopub.execute_input": "2022-12-17T07:08:37.579393Z",
          "iopub.status.idle": "2022-12-17T07:08:37.585290Z",
          "shell.execute_reply.started": "2022-12-17T07:08:37.579276Z",
          "shell.execute_reply": "2022-12-17T07:08:37.583980Z"
        },
        "trusted": true,
        "colab": {
          "base_uri": "https://localhost:8080/"
        },
        "id": "uC6y4anmJFOI",
        "outputId": "95b92cca-2db6-4ea9-fdc4-15ae7e3d3b6d"
      },
      "execution_count": 17,
      "outputs": [
        {
          "output_type": "stream",
          "name": "stdout",
          "text": [
            "first item:1st string\n",
            "last item:last string\n"
          ]
        },
        {
          "output_type": "execute_result",
          "data": {
            "text/plain": [
              "['2nd string', True, 'last string']"
            ]
          },
          "metadata": {},
          "execution_count": 17
        }
      ]
    },
    {
      "cell_type": "markdown",
      "source": [
        "### Mutable and ordered"
      ],
      "metadata": {
        "id": "w_dZv87YJFOI"
      }
    },
    {
      "cell_type": "code",
      "source": [
        "# Mutable and ordered\n",
        "my_lst = [1, 2, 3, 4, 5]\n",
        "my_lst[0] = 0\n",
        "print(my_lst)"
      ],
      "metadata": {
        "_kg_hide-output": false,
        "execution": {
          "iopub.status.busy": "2022-12-17T07:08:37.764113Z",
          "iopub.execute_input": "2022-12-17T07:08:37.764571Z",
          "iopub.status.idle": "2022-12-17T07:08:37.771008Z",
          "shell.execute_reply.started": "2022-12-17T07:08:37.764508Z",
          "shell.execute_reply": "2022-12-17T07:08:37.770146Z"
        },
        "trusted": true,
        "id": "b-aM4o5HJFOI",
        "outputId": "fb1aecac-264f-406b-a123-11a4c229ae99"
      },
      "execution_count": null,
      "outputs": [
        {
          "name": "stdout",
          "text": "[0, 2, 3, 4, 5]\n",
          "output_type": "stream"
        }
      ]
    },
    {
      "cell_type": "markdown",
      "source": [
        "### Add, remove elements\n"
      ],
      "metadata": {
        "id": "nHFyhRQzJFOM"
      }
    },
    {
      "cell_type": "code",
      "source": [
        "letters = ['a', 'b', 'c', 'd']\n",
        "letters.append('z')\n",
        "print(letters) # ['a', 'b', 'c', 'd', 'z']\n",
        "# Note: letters[i] = 'z'; wouldn't work, use append()"
      ],
      "metadata": {
        "_kg_hide-output": false,
        "execution": {
          "iopub.status.busy": "2022-12-17T07:08:37.942450Z",
          "iopub.status.idle": "2022-12-17T07:08:37.943025Z"
        },
        "trusted": true,
        "colab": {
          "base_uri": "https://localhost:8080/"
        },
        "id": "7X3EmwdHJFOM",
        "outputId": "28a38361-20f3-41c4-dccf-3f0591bdcdfd"
      },
      "execution_count": 27,
      "outputs": [
        {
          "output_type": "stream",
          "name": "stdout",
          "text": [
            "['a', 'b', 'c', 'd', 'z']\n"
          ]
        }
      ]
    },
    {
      "cell_type": "code",
      "source": [
        "letters = ['a', 'b', 'c', 'd']\n",
        "letters.pop()\n",
        "letters"
      ],
      "metadata": {
        "colab": {
          "base_uri": "https://localhost:8080/"
        },
        "id": "BKPFOrI9QZQr",
        "outputId": "e8fd7eb7-5557-4427-b2c9-d7b30489f902"
      },
      "execution_count": 30,
      "outputs": [
        {
          "output_type": "execute_result",
          "data": {
            "text/plain": [
              "['a', 'b', 'c']"
            ]
          },
          "metadata": {},
          "execution_count": 30
        }
      ]
    },
    {
      "cell_type": "markdown",
      "source": [
        "### length, min, max, sort,sum"
      ],
      "metadata": {
        "id": "Px-CwM0jJFOI"
      }
    },
    {
      "cell_type": "code",
      "source": [
        "numbers=[1,4,2,3,8]\n",
        "\n",
        "# length of list\n",
        "len(numbers)\n",
        "\n",
        "# returns the smallest element of the list\n",
        "min(numbers)\n",
        "\n",
        "# returns the greatest element of the list. This works because the the max function is defined in terms of the greater than comparison operator. The max function is undefined for lists that contain elements from different, incomparable types.\n",
        "max(numbers)\n",
        "\n",
        "sorted(numbers)\n",
        "\n",
        "sum(numbers)"
      ],
      "metadata": {
        "_kg_hide-output": true,
        "execution": {
          "iopub.status.busy": "2022-12-17T07:08:37.790692Z",
          "iopub.execute_input": "2022-12-17T07:08:37.791303Z",
          "iopub.status.idle": "2022-12-17T07:08:37.934841Z",
          "shell.execute_reply.started": "2022-12-17T07:08:37.791235Z",
          "shell.execute_reply": "2022-12-17T07:08:37.932313Z"
        },
        "trusted": true,
        "colab": {
          "base_uri": "https://localhost:8080/"
        },
        "id": "ZDGK4KJgJFOJ",
        "outputId": "3c6ff701-65f6-4e76-e6f5-699e8e39c8c9"
      },
      "execution_count": 26,
      "outputs": [
        {
          "output_type": "execute_result",
          "data": {
            "text/plain": [
              "18"
            ]
          },
          "metadata": {},
          "execution_count": 26
        }
      ]
    },
    {
      "cell_type": "markdown",
      "source": [
        "### For loop"
      ],
      "metadata": {
        "id": "VsPCFPrBJFNn"
      }
    },
    {
      "cell_type": "code",
      "source": [
        "cities = ['new york city', 'mountain view', 'chicago', 'los angeles']\n",
        "capitalized_cities = []\n",
        "for city in cities:\n",
        "    # the string object has an attribute called \"title\"\n",
        "    capitalized_cities.append(city.title())\n",
        "capitalized_cities"
      ],
      "metadata": {
        "_kg_hide-output": false,
        "execution": {
          "iopub.status.busy": "2022-12-17T07:08:37.940157Z",
          "iopub.status.idle": "2022-12-17T07:08:37.941087Z"
        },
        "trusted": true,
        "colab": {
          "base_uri": "https://localhost:8080/"
        },
        "id": "nhErWbO8JFOM",
        "outputId": "fc52c7bd-5bcc-42f5-cab1-1ac79d5a2ba6"
      },
      "execution_count": 32,
      "outputs": [
        {
          "output_type": "execute_result",
          "data": {
            "text/plain": [
              "['New York City', 'Mountain View', 'Chicago', 'Los Angeles']"
            ]
          },
          "metadata": {},
          "execution_count": 32
        }
      ]
    },
    {
      "cell_type": "code",
      "source": [
        "# list comprehension: short syntax when you want to create a new list based on the values of existing list\n",
        "# syntax: newlist = [expression for item in iterable if condition == True]\n",
        "\n",
        "# example1\n",
        "names = [\"Rick S\", \"Morty Smith\", \"Summer Smith\", \"Jerry Smith\", \"Beth Smith\"]\n",
        "first_names = [name.split(' ')[0] for name in names]\n",
        "print(first_names)\n",
        "# ['Rick', 'Morty', 'Summer', 'Jerry', 'Beth']\n",
        "\n",
        "# example2\n",
        "multiples_3 = [i*3 for i in range(1,21)]\n",
        "print(multiples_3)\n",
        "# [3, 6, 9, 12, 15, 18, 21, 24, 27, 30, 33, 36, 39, 42, 45, 48, 51, 54, 57, 60]\n",
        "\n",
        "# example3\n",
        "scores = {\n",
        "             \"Rick\": 70,\n",
        "             \"Morty Smith\": 35,\n",
        "             \"Summer Smith\": 82,\n",
        "             \"Jerry Smith\": 23,\n",
        "             \"Beth Smith\": 98\n",
        "          }\n",
        "passed = [name for name, score in scores.items() if score>=65]\n",
        "print(passed)\n",
        "# ['Rick', 'Summer Smith', 'Beth Smith']"
      ],
      "metadata": {
        "execution": {
          "iopub.status.busy": "2022-12-17T07:08:37.509996Z",
          "iopub.execute_input": "2022-12-17T07:08:37.510655Z",
          "iopub.status.idle": "2022-12-17T07:08:37.522208Z",
          "shell.execute_reply.started": "2022-12-17T07:08:37.510585Z",
          "shell.execute_reply": "2022-12-17T07:08:37.521157Z"
        },
        "trusted": true,
        "colab": {
          "base_uri": "https://localhost:8080/"
        },
        "id": "lNKkRjlYJFOC",
        "outputId": "4f09a3aa-2b82-41cb-e7ad-249ca2faebf6"
      },
      "execution_count": 41,
      "outputs": [
        {
          "output_type": "stream",
          "name": "stdout",
          "text": [
            "['Rick', 'Morty', 'Summer', 'Jerry', 'Beth']\n",
            "[3, 6, 9, 12, 15, 18, 21, 24, 27, 30, 33, 36, 39, 42, 45, 48, 51, 54, 57, 60]\n",
            "['Rick', 'Summer Smith', 'Beth Smith']\n"
          ]
        }
      ]
    },
    {
      "cell_type": "markdown",
      "source": [
        "### Lambda Functions"
      ],
      "metadata": {
        "id": "1Q6uaoqYJFOG"
      }
    },
    {
      "cell_type": "code",
      "source": [
        "# Lambda Functions - lambda (arg1, arg2): do_a_thing_and_return_it\n",
        "multiply = lambda x, y: x * y\n",
        "\n",
        "# Equivalent of:\n",
        "def multiply(x, y):\n",
        "    return x * y\n",
        "\n",
        "# Can call both of the above like:\n",
        "multiply(4, 7)"
      ],
      "metadata": {
        "execution": {
          "iopub.status.busy": "2022-12-17T07:08:37.524421Z",
          "iopub.execute_input": "2022-12-17T07:08:37.524954Z",
          "iopub.status.idle": "2022-12-17T07:08:37.535315Z",
          "shell.execute_reply.started": "2022-12-17T07:08:37.524896Z",
          "shell.execute_reply": "2022-12-17T07:08:37.534355Z"
        },
        "trusted": true,
        "id": "-yux7D4WJFOG",
        "outputId": "fbd18cb9-1deb-42b5-9a88-35dec505313f"
      },
      "execution_count": null,
      "outputs": [
        {
          "execution_count": 4,
          "output_type": "execute_result",
          "data": {
            "text/plain": "28"
          },
          "metadata": {}
        }
      ]
    },
    {
      "cell_type": "markdown",
      "source": [
        "### Transform list (map())"
      ],
      "metadata": {
        "id": "-FumTrseJFOH"
      }
    },
    {
      "cell_type": "code",
      "source": [
        "# example of using map() to apply lambda function to a list\n",
        "numbers = [\n",
        "              [34, 63, 88, 71, 29],\n",
        "              [90, 78, 51, 27, 45],\n",
        "              [63, 37, 85, 46, 22],\n",
        "              [51, 22, 34, 11, 18]\n",
        "           ]\n",
        "mean = lambda num_list: sum(num_list)/len(num_list)\n",
        "averages = list(map(mean, numbers))\n",
        "# or\n",
        "averages = list(map(lambda num_list: sum(num_list)/len(num_list), numbers))\n",
        "print(averages)\n",
        "# [57.0, 58.2, 50.6, 27.2]"
      ],
      "metadata": {
        "execution": {
          "iopub.status.busy": "2022-12-17T07:08:37.537746Z",
          "iopub.execute_input": "2022-12-17T07:08:37.538064Z",
          "iopub.status.idle": "2022-12-17T07:08:37.547645Z",
          "shell.execute_reply.started": "2022-12-17T07:08:37.538004Z",
          "shell.execute_reply": "2022-12-17T07:08:37.546549Z"
        },
        "trusted": true,
        "colab": {
          "base_uri": "https://localhost:8080/"
        },
        "id": "kGxOsfq1JFOH",
        "outputId": "92a9bb3c-3b72-4f52-d1b9-9d7ab0b3f09e"
      },
      "execution_count": 35,
      "outputs": [
        {
          "output_type": "stream",
          "name": "stdout",
          "text": [
            "[57.0, 58.2, 50.6, 27.2]\n"
          ]
        }
      ]
    },
    {
      "cell_type": "markdown",
      "source": [
        "### Filter list (filter())"
      ],
      "metadata": {
        "id": "K3CUm-WmJFOH"
      }
    },
    {
      "cell_type": "code",
      "source": [
        "# example of using filter() to apply lambda function to a list\n",
        "cities = [\"New York City\", \"Los Angeles\", \"Chicago\", \"Mountain View\", \"Denver\", \"Boston\"]\n",
        "is_short = lambda name: len(name) < 10\n",
        "short_cities = list(filter(is_short, cities))\n",
        "# or\n",
        "short_cities = list(filter(lambda name: len(name) < 10, cities))\n",
        "print(short_cities)"
      ],
      "metadata": {
        "execution": {
          "iopub.status.busy": "2022-12-17T07:08:37.549638Z",
          "iopub.execute_input": "2022-12-17T07:08:37.550227Z",
          "iopub.status.idle": "2022-12-17T07:08:37.558238Z",
          "shell.execute_reply.started": "2022-12-17T07:08:37.550176Z",
          "shell.execute_reply": "2022-12-17T07:08:37.557245Z"
        },
        "trusted": true,
        "id": "giL6truvJFOH",
        "outputId": "0fcf046b-b571-4afb-f4a3-080a50c23a7f"
      },
      "execution_count": null,
      "outputs": [
        {
          "name": "stdout",
          "text": "['Chicago', 'Denver', 'Boston']\n",
          "output_type": "stream"
        }
      ]
    },
    {
      "cell_type": "markdown",
      "source": [
        "### Join 2 lists"
      ],
      "metadata": {
        "id": "ycuDJHxuVVU9"
      }
    },
    {
      "cell_type": "code",
      "source": [
        "list1 = [\"a\", \"b\" , \"c\"]\n",
        "list2 = [1, 2, 3]\n",
        "\n",
        "list1.extend(list2)\n",
        "print(list1)"
      ],
      "metadata": {
        "colab": {
          "base_uri": "https://localhost:8080/"
        },
        "id": "XwVBDbDwVSD4",
        "outputId": "bce0bafa-73c1-48ce-e323-e2d40db254b8"
      },
      "execution_count": 40,
      "outputs": [
        {
          "output_type": "stream",
          "name": "stdout",
          "text": [
            "['a', 'b', 'c', 1, 2, 3]\n"
          ]
        }
      ]
    },
    {
      "cell_type": "markdown",
      "source": [
        "### Generators"
      ],
      "metadata": {
        "id": "_IO4VD2pJFOH"
      }
    },
    {
      "cell_type": "code",
      "source": [
        "# Generators\n",
        "def my_range(x):\n",
        "    i = 0\n",
        "    while i < x:\n",
        "        yield i\n",
        "        i += 1\n",
        "# since this returns an iterator, we can convert it to a list\n",
        "# or iterate through it in a loop to view its contents\n",
        "for x in my_range(5):\n",
        "    print(x)\n",
        "'''\n",
        "0\n",
        "1\n",
        "2\n",
        "3\n",
        "4\n",
        "'''\n",
        "\n",
        "# You can create a generator in the same way you'd normally write a list comprehension, except with\n",
        "# parentheses instead of square brackets.\n",
        "# this list comprehension produces a list of squares\n",
        "sq_list = [x**2 for x in range(10)]\n",
        "# this generator produces an iterator of squares\n",
        "sq_iterator = (x**2 for x in range(10))\n",
        "\n",
        "# example\n",
        "# generator function that works like the built-in function enumerate\n",
        "lessons = [\"Why Python Programming\", \"Data Types and Operators\", \"Control Flow\", \"Functions\", \"Scripting\"]\n",
        "def my_enumerate(iterable, start=0):\n",
        "    i = start\n",
        "    for element in iterable:\n",
        "        yield i, element\n",
        "        i = i + 1\n",
        "for i, lesson in my_enumerate(lessons, 1):\n",
        "    print(\"Lesson {}: {}\".format(i, lesson))\n",
        "'''\n",
        "Lesson 1: Why Python Programming\n",
        "Lesson 2: Data Types and Operators\n",
        "Lesson 3: Control Flow\n",
        "Lesson 4: Functions\n",
        "Lesson 5: Scripting\n",
        "'''\n",
        "\n",
        "# example\n",
        "# If you have an iterable that is too large to fit in memory in full\n",
        "# (e.g., when dealing with large files), being able to take and use\n",
        "# chunks of it at a time can be very valuable.\n",
        "# Implementing a generator function, chunker, that takes in an\n",
        "# iterable and yields a chunk of a specified size at a time.\n",
        "def chunker(iterable, size):\n",
        "    for i in range(0, len(iterable), size):\n",
        "        yield iterable[i:i + size]\n",
        "for chunk in chunker(range(25), 4):\n",
        "    print(list(chunk))"
      ],
      "metadata": {
        "execution": {
          "iopub.status.busy": "2022-12-17T07:08:37.560137Z",
          "iopub.execute_input": "2022-12-17T07:08:37.560623Z",
          "iopub.status.idle": "2022-12-17T07:08:37.576858Z",
          "shell.execute_reply.started": "2022-12-17T07:08:37.560576Z",
          "shell.execute_reply": "2022-12-17T07:08:37.575266Z"
        },
        "trusted": true,
        "id": "L2LAZDHsJFOH",
        "outputId": "73816e85-2ed0-4c67-9345-8b71cbf03e37"
      },
      "execution_count": null,
      "outputs": [
        {
          "name": "stdout",
          "text": "0\n1\n2\n3\n4\nLesson 1: Why Python Programming\nLesson 2: Data Types and Operators\nLesson 3: Control Flow\nLesson 4: Functions\nLesson 5: Scripting\n[0, 1, 2, 3]\n[4, 5, 6, 7]\n[8, 9, 10, 11]\n[12, 13, 14, 15]\n[16, 17, 18, 19]\n[20, 21, 22, 23]\n[24]\n",
          "output_type": "stream"
        }
      ]
    },
    {
      "cell_type": "markdown",
      "source": [
        "### Print a formatted string from parameters in list"
      ],
      "metadata": {
        "id": "b0v7-9mrJFON"
      }
    },
    {
      "cell_type": "code",
      "source": [
        "items = ['first string', 'second string']\n",
        "html_str = \"<ul>\\n\"\n",
        "for item in items:\n",
        "    html_str += \"<li>{}</li>\\n\".format(item)\n",
        "html_str += \"</ul>\"\n",
        "print(html_str)"
      ],
      "metadata": {
        "_kg_hide-output": false,
        "execution": {
          "iopub.status.busy": "2022-12-17T07:08:37.945798Z",
          "iopub.status.idle": "2022-12-17T07:08:37.946519Z"
        },
        "trusted": true,
        "colab": {
          "base_uri": "https://localhost:8080/"
        },
        "id": "zoTaRyGrJFON",
        "outputId": "fa8548fa-f96a-405f-c075-b59cbfe9efe9"
      },
      "execution_count": 38,
      "outputs": [
        {
          "output_type": "stream",
          "name": "stdout",
          "text": [
            "<ul>\n",
            "<li>first string</li>\n",
            "<li>second string</li>\n",
            "</ul>\n"
          ]
        }
      ]
    },
    {
      "cell_type": "markdown",
      "source": [
        "### Convert an iterable (tuple, string, set, dictionary) to a list - list()"
      ],
      "metadata": {
        "id": "9sCZZMiXJFON"
      }
    },
    {
      "cell_type": "code",
      "source": [
        "# vowel string\n",
        "vowelString = 'aeiou'\n",
        "print(list(vowelString))\n",
        "\n",
        "# vowel tuple\n",
        "vowelTuple = ('a', 'e', 'i', 'o', 'u')\n",
        "print(list(vowelTuple))\n",
        "\n",
        "# vowel list\n",
        "vowelList = ['a', 'e', 'i', 'o', 'u']\n",
        "print(list(vowelList))\n",
        "\n",
        "# All Print: ['a', 'e', 'i', 'o', 'u']"
      ],
      "metadata": {
        "_kg_hide-output": false,
        "execution": {
          "iopub.status.busy": "2022-12-17T07:08:37.947516Z",
          "iopub.status.idle": "2022-12-17T07:08:37.948034Z"
        },
        "trusted": true,
        "id": "6BUbUZRkJFON"
      },
      "execution_count": null,
      "outputs": []
    },
    {
      "cell_type": "markdown",
      "source": [
        "## Tuples() (immutable list)\n",
        "**immutable ordered sequences of elements.**\n",
        "- They are often used to store related pieces of information. The parentheses are optional when defining tuples.\n",
        "- Are ordered - can lookup elements by index.\n",
        "- Are immutable - can not be changed. You can't add and remove items from tuples, or sort them in place."
      ],
      "metadata": {
        "id": "l84uauRgJFON"
      }
    },
    {
      "cell_type": "markdown",
      "source": [
        "### create tuple"
      ],
      "metadata": {
        "id": "9zNnkHwxJFON"
      }
    },
    {
      "cell_type": "code",
      "source": [
        "location = (13.4125, 103.866667)"
      ],
      "metadata": {
        "_kg_hide-output": false,
        "execution": {
          "iopub.status.busy": "2022-12-17T07:08:37.949065Z",
          "iopub.status.idle": "2022-12-17T07:08:37.949550Z"
        },
        "trusted": true,
        "id": "nGVUtwTaJFON"
      },
      "execution_count": null,
      "outputs": []
    },
    {
      "cell_type": "markdown",
      "source": [
        "### access tuple"
      ],
      "metadata": {
        "id": "4eOYHSavJFON"
      }
    },
    {
      "cell_type": "code",
      "source": [
        "print(\"Latitude:\", location[0])\n",
        "print(\"Longitude:\", location[1])"
      ],
      "metadata": {
        "_kg_hide-output": false,
        "execution": {
          "iopub.status.busy": "2022-12-17T07:08:37.950731Z",
          "iopub.status.idle": "2022-12-17T07:08:37.951544Z"
        },
        "trusted": true,
        "id": "9ajgKXCzJFON"
      },
      "execution_count": null,
      "outputs": []
    },
    {
      "cell_type": "markdown",
      "source": [
        "### tuple packing"
      ],
      "metadata": {
        "id": "MNTHlAmRJFON"
      }
    },
    {
      "cell_type": "code",
      "source": [
        "# can also be used to assign multiple variables in a compact way\n",
        "dimensions = 52, 40, 100"
      ],
      "metadata": {
        "_kg_hide-output": false,
        "execution": {
          "iopub.status.busy": "2022-12-17T07:08:37.952722Z",
          "iopub.status.idle": "2022-12-17T07:08:37.953383Z"
        },
        "trusted": true,
        "id": "VW3ELZ4fJFON"
      },
      "execution_count": null,
      "outputs": []
    },
    {
      "cell_type": "markdown",
      "source": [
        "### tuple unpacking"
      ],
      "metadata": {
        "id": "eO49M8pTJFON"
      }
    },
    {
      "cell_type": "code",
      "source": [
        "# tuple unpacking\n",
        "length, width, height = dimensions\n",
        "print(\"The dimensions are {} x {} x {}\".format(length, width, height))"
      ],
      "metadata": {
        "_kg_hide-output": false,
        "execution": {
          "iopub.status.busy": "2022-12-17T07:08:37.955402Z",
          "iopub.status.idle": "2022-12-17T07:08:37.956047Z"
        },
        "trusted": true,
        "id": "aJqtSJGcJFOO"
      },
      "execution_count": null,
      "outputs": []
    },
    {
      "cell_type": "markdown",
      "source": [
        "## Sets{}\n",
        "**mutable, unordered collections of unique elements.**\n",
        "- Are unordered - can not lookup elements by index.\n",
        "- Are mutable - can be changed.\n",
        "- Sets support the **in** operator the same as lists do.\n",
        "- One application of a set is to quickly remove duplicates from a list.\n",
        "- You cannot have the same item twice and you cannot sort sets. For these two properties a list would be more appropriate.\n",
        "- You can add elements to sets using the **add()** method, and remove elements using the **pop()** method, similar to lists. Although, when you pop an element from a set, a random element is removed. Remember that sets, unlike lists, are unordered so there is no \"last element\".\n",
        "- Other operations you can perform with sets include those of mathematical sets. Methods like union, intersection, and difference are easy to perform with sets, and are much faster than such operators with other containers."
      ],
      "metadata": {
        "id": "v7ycdLK9JFOO"
      }
    },
    {
      "cell_type": "markdown",
      "source": [
        "### create sets"
      ],
      "metadata": {
        "id": "QECam3ZBJFOO"
      }
    },
    {
      "cell_type": "code",
      "source": [
        "numbers = [1, 2, 6, 3, 1, 1, 6]\n",
        "unique_nums = set(numbers)\n",
        "print(unique_nums) # {1, 2, 3, 6}"
      ],
      "metadata": {
        "_kg_hide-output": false,
        "execution": {
          "iopub.status.busy": "2022-12-17T07:08:37.957415Z",
          "iopub.status.idle": "2022-12-17T07:08:37.958128Z"
        },
        "trusted": true,
        "id": "y_0qPtzEJFOO"
      },
      "execution_count": null,
      "outputs": []
    },
    {
      "cell_type": "code",
      "source": [
        "fruit = {\"apple\", \"banana\", \"orange\", \"grapefruit\"}"
      ],
      "metadata": {
        "_kg_hide-output": true,
        "execution": {
          "iopub.status.busy": "2022-12-17T07:08:37.959818Z",
          "iopub.status.idle": "2022-12-17T07:08:37.960356Z"
        },
        "trusted": true,
        "id": "H3wPs0lxJFOO"
      },
      "execution_count": null,
      "outputs": []
    },
    {
      "cell_type": "markdown",
      "source": [
        "### check for element"
      ],
      "metadata": {
        "id": "OdDXvUU7JFOO"
      }
    },
    {
      "cell_type": "code",
      "source": [
        "print(\"watermelon\" in fruit)"
      ],
      "metadata": {
        "_kg_hide-output": false,
        "execution": {
          "iopub.status.busy": "2022-12-17T07:08:37.962040Z",
          "iopub.status.idle": "2022-12-17T07:08:37.962710Z"
        },
        "trusted": true,
        "id": "0mUMcWjaJFOO"
      },
      "execution_count": null,
      "outputs": []
    },
    {
      "cell_type": "markdown",
      "source": [
        "### add an element"
      ],
      "metadata": {
        "id": "sqqzi_bOJFOS"
      }
    },
    {
      "cell_type": "code",
      "source": [
        "fruit.add(\"watermelon\")\n",
        "print(fruit)"
      ],
      "metadata": {
        "_kg_hide-output": false,
        "execution": {
          "iopub.status.busy": "2022-12-17T07:08:37.964687Z",
          "iopub.status.idle": "2022-12-17T07:08:37.965162Z"
        },
        "trusted": true,
        "id": "JKO4bg-5JFOT"
      },
      "execution_count": null,
      "outputs": []
    },
    {
      "cell_type": "markdown",
      "source": [
        "### remove a random element"
      ],
      "metadata": {
        "id": "AACrArcBJFOT"
      }
    },
    {
      "cell_type": "code",
      "source": [
        "print(fruit.pop())\n",
        "print(fruit)"
      ],
      "metadata": {
        "_kg_hide-output": false,
        "execution": {
          "iopub.status.busy": "2022-12-17T07:08:37.966800Z",
          "iopub.status.idle": "2022-12-17T07:08:37.967532Z"
        },
        "trusted": true,
        "id": "XrxfKWftJFOT"
      },
      "execution_count": null,
      "outputs": []
    },
    {
      "cell_type": "markdown",
      "source": [
        "## Dicts{}\n",
        "**mutable data type that stores mappings of unique keys to values.**\n",
        "- Are ordered - can lookup elements by key.\n",
        "- Are mutable - can be changed.\n",
        "- Dictionaries can have *keys of any immutable type*, like integers or tuples, not just strings. It's not even necessary for every key to have the same type!\n",
        "- We can look up values or insert new values in the dictionary using square brackets that enclose the key."
      ],
      "metadata": {
        "id": "_wAJfUdBJFOT"
      }
    },
    {
      "cell_type": "markdown",
      "source": [
        "### create dict"
      ],
      "metadata": {
        "id": "ZW0XyVz9JFOT"
      }
    },
    {
      "cell_type": "code",
      "source": [
        "elements = {\"hydrogen\": 1, \"helium\": 2, \"carbon\": 6}"
      ],
      "metadata": {
        "_kg_hide-output": false,
        "execution": {
          "iopub.status.busy": "2022-12-17T07:10:08.977751Z",
          "iopub.execute_input": "2022-12-17T07:10:08.978257Z",
          "iopub.status.idle": "2022-12-17T07:10:08.982809Z",
          "shell.execute_reply.started": "2022-12-17T07:10:08.978210Z",
          "shell.execute_reply": "2022-12-17T07:10:08.981603Z"
        },
        "trusted": true,
        "id": "_2lc1BiLJFOT"
      },
      "execution_count": null,
      "outputs": []
    },
    {
      "cell_type": "markdown",
      "source": [
        "### accessing an element's value"
      ],
      "metadata": {
        "id": "_pH9I0DIJFOT"
      }
    },
    {
      "cell_type": "code",
      "source": [
        "print(elements[\"helium\"])"
      ],
      "metadata": {
        "_kg_hide-output": false,
        "execution": {
          "iopub.status.busy": "2022-12-17T07:10:12.262121Z",
          "iopub.execute_input": "2022-12-17T07:10:12.262772Z",
          "iopub.status.idle": "2022-12-17T07:10:12.269812Z",
          "shell.execute_reply.started": "2022-12-17T07:10:12.262436Z",
          "shell.execute_reply": "2022-12-17T07:10:12.268373Z"
        },
        "trusted": true,
        "id": "DmjBiaprJFOT",
        "outputId": "1302bdf3-8e58-4530-806f-f7226cbc9406"
      },
      "execution_count": null,
      "outputs": [
        {
          "name": "stdout",
          "text": "2\n",
          "output_type": "stream"
        }
      ]
    },
    {
      "cell_type": "markdown",
      "source": [
        "### adding elements"
      ],
      "metadata": {
        "id": "5VKtK6XGJFOT"
      }
    },
    {
      "cell_type": "code",
      "source": [
        "elements[\"lithium\"] = 3 "
      ],
      "metadata": {
        "_kg_hide-output": false,
        "execution": {
          "iopub.status.busy": "2022-12-17T07:10:22.252778Z",
          "iopub.execute_input": "2022-12-17T07:10:22.253118Z",
          "iopub.status.idle": "2022-12-17T07:10:22.258570Z",
          "shell.execute_reply.started": "2022-12-17T07:10:22.253063Z",
          "shell.execute_reply": "2022-12-17T07:10:22.257253Z"
        },
        "trusted": true,
        "id": "ou0V1GT6JFOT"
      },
      "execution_count": null,
      "outputs": []
    },
    {
      "cell_type": "markdown",
      "source": [
        "### Iterating through a dictionary"
      ],
      "metadata": {
        "id": "anU8gM5AJFOT"
      }
    },
    {
      "cell_type": "code",
      "source": [
        "# Just keys\n",
        "for key in elements:\n",
        "    print(key)\n",
        "# Keys and values\n",
        "for key, value in elements.items():\n",
        "    print(\"Actor: {}    Role: {}\".format(key, value))"
      ],
      "metadata": {
        "_kg_hide-output": true,
        "execution": {
          "iopub.status.busy": "2022-12-17T07:11:45.923361Z",
          "iopub.execute_input": "2022-12-17T07:11:45.923698Z",
          "iopub.status.idle": "2022-12-17T07:11:45.931916Z",
          "shell.execute_reply.started": "2022-12-17T07:11:45.923645Z",
          "shell.execute_reply": "2022-12-17T07:11:45.930741Z"
        },
        "trusted": true,
        "id": "uRLeLK63JFOT",
        "outputId": "126d288b-082e-40ac-f1b7-296ae05613f3"
      },
      "execution_count": null,
      "outputs": [
        {
          "name": "stdout",
          "text": "hydrogen\nhelium\ncarbon\nlithium\nActor: hydrogen    Role: 1\nActor: helium    Role: 2\nActor: carbon    Role: 6\nActor: lithium    Role: 3\n",
          "output_type": "stream"
        }
      ]
    },
    {
      "cell_type": "code",
      "source": [
        "#dictionary comprehension\n",
        "\n",
        "#item price in dollars\n",
        "old_price = {'milk': 1.02, 'coffee': 2.5, 'bread': 2.5}\n",
        "\n",
        "dollar_to_pound = 0.76\n",
        "# \"item:value*dollar_to_pound\" is the new format that you want\n",
        "new_price = {item: value*dollar_to_pound for (item, value) in old_price.items()}\n",
        "print(new_price)\n",
        "\n",
        "#output: {'milk': 0.7752, 'coffee': 1.9, 'bread': 1.9}"
      ],
      "metadata": {
        "colab": {
          "base_uri": "https://localhost:8080/"
        },
        "id": "1jWWhcYkonLB",
        "outputId": "39094d66-d151-495b-e712-d60584f2d3e8"
      },
      "execution_count": 57,
      "outputs": [
        {
          "output_type": "stream",
          "name": "stdout",
          "text": [
            "{'milk': 0.7752, 'coffee': 1.9, 'bread': 1.9}\n"
          ]
        }
      ]
    },
    {
      "cell_type": "markdown",
      "source": [
        "### check whether a value is in a dictionary"
      ],
      "metadata": {
        "id": "rQ76BtzgJFOT"
      }
    },
    {
      "cell_type": "code",
      "source": [
        "# check whether a value is in a dictionary, the same way we check whether a value is in a list or set with the in keyword.\n",
        "print(\"carbon\" in elements) # True"
      ],
      "metadata": {
        "_kg_hide-output": false,
        "execution": {
          "iopub.status.busy": "2022-12-17T07:08:37.977658Z",
          "iopub.status.idle": "2022-12-17T07:08:37.978108Z"
        },
        "trusted": true,
        "id": "XpopGTUiJFOT"
      },
      "execution_count": null,
      "outputs": []
    },
    {
      "cell_type": "markdown",
      "source": [
        "### get() looks up values in a dictionary"
      ],
      "metadata": {
        "id": "PldBofp-JFOT"
      }
    },
    {
      "cell_type": "code",
      "source": [
        "# get() looks up values in a dictionary, but unlike square brackets, get returns None (or a default value of your choice) if the key isn't found.\n",
        "# If you expect lookups to sometimes fail, get might be a better tool than normal square bracket lookups.\n",
        "print(elements.get(\"dilithium\")) # None\n",
        "print(elements.get('kryptonite', 'There\\'s no such element!'))\n",
        "# \"There's no such element!\""
      ],
      "metadata": {
        "_kg_hide-output": false,
        "execution": {
          "iopub.status.busy": "2022-12-17T07:12:45.885789Z",
          "iopub.execute_input": "2022-12-17T07:12:45.886184Z",
          "iopub.status.idle": "2022-12-17T07:12:45.893760Z",
          "shell.execute_reply.started": "2022-12-17T07:12:45.886127Z",
          "shell.execute_reply": "2022-12-17T07:12:45.892472Z"
        },
        "trusted": true,
        "id": "KSOLVW8AJFOT",
        "outputId": "30f628ea-5388-41f5-e91c-0d333efe71d2"
      },
      "execution_count": null,
      "outputs": [
        {
          "name": "stdout",
          "text": "None\nThere's no such element!\n",
          "output_type": "stream"
        }
      ]
    },
    {
      "cell_type": "markdown",
      "source": [
        "### Identity Operators"
      ],
      "metadata": {
        "id": "PcFgKZWaJFOU"
      }
    },
    {
      "cell_type": "code",
      "source": [
        "n = elements.get(\"dilithium\")\n",
        "print(n is None) # True\n",
        "print(n is not None) # False"
      ],
      "metadata": {
        "_kg_hide-output": false,
        "execution": {
          "iopub.status.busy": "2022-12-17T07:08:38.098769Z",
          "iopub.status.idle": "2022-12-17T07:08:38.099137Z"
        },
        "trusted": true,
        "id": "BpGbH88vJFOU"
      },
      "execution_count": null,
      "outputs": []
    },
    {
      "cell_type": "markdown",
      "source": [
        "### Equality (==) and identity (is)"
      ],
      "metadata": {
        "id": "TNfhxlMcJFOU"
      }
    },
    {
      "cell_type": "code",
      "source": [
        "a = [1, 2, 3]\n",
        "b = a\n",
        "c = [1, 2, 3]\n",
        "print(a == b) # True\n",
        "print(a is b) # True\n",
        "print(a == c) # True\n",
        "print(a is c) # False\n",
        "# List a and list b are equal and identical.\n",
        "# List c is equal to a (and b for that matter) since they have the same contents. But a and c (and b for that matter, again) point to two different objects, i.e., they aren't identical objects.\n",
        "# That is the difference between checking for equality vs. identity."
      ],
      "metadata": {
        "_kg_hide-output": false,
        "execution": {
          "iopub.status.busy": "2022-12-17T07:08:38.100733Z",
          "iopub.status.idle": "2022-12-17T07:08:38.101305Z"
        },
        "trusted": true,
        "id": "0ibxatvOJFOU"
      },
      "execution_count": null,
      "outputs": []
    },
    {
      "cell_type": "markdown",
      "source": [
        "### Compound Data Structures"
      ],
      "metadata": {
        "id": "SfRrx9UdJFOV"
      }
    },
    {
      "cell_type": "code",
      "source": [
        "elements = {\"hydrogen\": {\"number\": 1,\n",
        "                         \"weight\": 1.00794,\n",
        "                         \"symbol\": \"H\"},\n",
        "              \"helium\": {\"number\": 2,\n",
        "                         \"weight\": 4.002602,\n",
        "                         \"symbol\": \"He\"}}\n",
        "# get the helium dictionary\n",
        "helium = elements[\"helium\"] #output: {'number': 2, 'weight': 4.002602, 'symbol': 'He'}\n",
        "print (helium) \n",
        "\n",
        "# get hydrogen's weight\n",
        "hydrogen_weight = elements[\"hydrogen\"][\"weight\"]  #output:1.00794\n",
        "print (hydrogen_weight) \n",
        "\n",
        "oxygen = {\"number\":8,\"weight\":15.999,\"symbol\":\"O\"}  # create a new oxygen dictionary \n",
        "elements[\"oxygen\"] = oxygen  # assign 'oxygen' as a key to the elements dictionary\n",
        "print('elements = ', elements)"
      ],
      "metadata": {
        "_kg_hide-output": false,
        "execution": {
          "iopub.status.busy": "2022-12-17T07:13:21.769922Z",
          "iopub.execute_input": "2022-12-17T07:13:21.770423Z",
          "iopub.status.idle": "2022-12-17T07:13:21.778731Z",
          "shell.execute_reply.started": "2022-12-17T07:13:21.770342Z",
          "shell.execute_reply": "2022-12-17T07:13:21.777831Z"
        },
        "trusted": true,
        "colab": {
          "base_uri": "https://localhost:8080/"
        },
        "id": "qd_jjwBxJFOV",
        "outputId": "ac712140-fe30-4795-9916-d29c8e07e32c"
      },
      "execution_count": 64,
      "outputs": [
        {
          "output_type": "stream",
          "name": "stdout",
          "text": [
            "{'number': 2, 'weight': 4.002602, 'symbol': 'He'}\n",
            "1.00794\n",
            "elements =  {'hydrogen': {'number': 1, 'weight': 1.00794, 'symbol': 'H'}, 'helium': {'number': 2, 'weight': 4.002602, 'symbol': 'He'}, 'oxygen': {'number': 8, 'weight': 15.999, 'symbol': 'O'}}\n"
          ]
        }
      ]
    },
    {
      "cell_type": "markdown",
      "source": [
        "### Dict frequency counter"
      ],
      "metadata": {
        "id": "ZlwjPw-QJFOY"
      }
    },
    {
      "cell_type": "code",
      "source": [
        "words =  ['great', 'expectations','the', 'adventures', 'of', 'sherlock','holmes','the','great','gasby','hamlet','adventures','of','huckleberry','fin'];\n",
        "word_counter = {}\n",
        "for word in words:\n",
        "    word_counter[word] = word_counter.get(word,0)+1;\n",
        "print(word_counter);\n",
        "# Prints {'fin': 1, 'huckleberry': 1, 'hamlet': 1, 'holmes': 1, 'adventures': 2, 'sherlock': 1, 'expectations': 1, 'great': 2, 'the': 2, 'of': 2, 'gasby': 1}"
      ],
      "metadata": {
        "_kg_hide-output": false,
        "execution": {
          "iopub.status.busy": "2022-12-17T07:08:38.104795Z",
          "iopub.status.idle": "2022-12-17T07:08:38.105246Z"
        },
        "trusted": true,
        "id": "Hv10zbBvJFOY"
      },
      "execution_count": null,
      "outputs": []
    },
    {
      "cell_type": "markdown",
      "source": [
        "# Numpy"
      ],
      "metadata": {
        "id": "-qjqw1GvJFOY"
      }
    },
    {
      "cell_type": "markdown",
      "source": [
        "[Jupyter Notebook Viewer](https://nbviewer.jupyter.org/github/ageron/handson-ml/blob/master/tools_numpy.ipynb)\n",
        "\n",
        "[Python Numpy Tutorial](http://cs231n.github.io/python-numpy-tutorial/#numpy)\n",
        "\n",
        "- NumPy provides Python with an extensive math library capable of performing numerical computations effectively and efficiently.\n",
        "    - Even though Python lists are great on their own, NumPy has a number of key features that give it great advantages over Python lists. One such feature is speed. When performing operations on large arrays NumPy can often perform several orders of magnitude faster than Python lists. This speed comes from the nature of NumPy arrays being memory-efficient and from optimized algorithms used by NumPy for doing arithmetic, statistical, and linear algebra operations.\n",
        "    - Another great feature of NumPy is that it has multidimensional array data structures that can represent vectors and matrices. Another great advantage of NumPy over Python lists is that NumPy has a large number of optimized built-in mathematical functions. These functions allow you to do a variety of complex mathematical computations very fast and with very little code (avoiding the use of complicated loops) making your programs more readable and easier to understand.\n",
        "- At the core of NumPy is the **ndarray**, where nd stands for n-dimensional.\n",
        "    - An ndarray is a multidimensional array of elements **all of the same type**.\n",
        "    - Unlike Python lists, all the elements of an ndarray must be of the same type. If you provide the np.array() function with a Python list that has both integers and strings, NumPy will interpret all elements as strings.\n",
        "    - When we create an ndarray with both floats and integers, NumPy assigns its elements a float64 dtype. This is called **upcasting**. Since all the elements of an ndarray must be of the same type, in this case NumPy upcasts the integers in z to floats in order to avoid losing precision in numerical computations.\n",
        "- We refer to 1D arrays as rank 1 arrays. In general N-Dimensional arrays have rank N. Therefore, we refer to a 2D array as a rank 2 array."
      ],
      "metadata": {
        "id": "XjtaqESUJFOY"
      }
    },
    {
      "cell_type": "markdown",
      "source": [
        "Read this about how data is arranged in numpy and using reshape: https://stackoverflow.com/questions/22053050/difference-between-numpy-array-shape-r-1-and-r"
      ],
      "metadata": {
        "id": "mpmDmn7nJFOY"
      }
    },
    {
      "cell_type": "code",
      "source": [
        "import numpy as np"
      ],
      "metadata": {
        "_kg_hide-output": true,
        "execution": {
          "iopub.status.busy": "2022-12-17T07:08:38.106558Z",
          "iopub.status.idle": "2022-12-17T07:08:38.107128Z"
        },
        "trusted": true,
        "id": "Qo1upw2MJFOY"
      },
      "execution_count": null,
      "outputs": []
    },
    {
      "cell_type": "markdown",
      "source": [
        "## Create ndarray"
      ],
      "metadata": {
        "id": "uxNOQILFJFOY"
      }
    },
    {
      "cell_type": "code",
      "source": [
        "# Create a 1D ndarray that contains only integers\n",
        "x = np.array([1, 2, 3, 4, 5])\n",
        "print('x = ', x) # x = [1 2 3 4 5]\n",
        "print('x has dimensions:', x.shape) # x has dimensions: (5,)\n",
        "print('The elements in x are of type:', x.dtype) # The elements in x are of type: int64\n",
        "\n",
        "# Create a rank 2 ndarray that only contains integers\n",
        "Y = np.array([[1,2,3],[4,5,6],[7,8,9], [10,11,12]])\n",
        "print('Y has dimensions:', Y.shape) # Y has dimensions: (4, 3)\n",
        "print('Y has a total of', Y.size, 'elements') # Y has a total of 12 elements\n",
        "print('Y is an object of type:', type(Y)) # Y is an object of type: class 'numpy.ndarray'\n",
        "print('The elements in Y are of type:', Y.dtype) # The elements in Y are of type: int64"
      ],
      "metadata": {
        "_kg_hide-output": false,
        "execution": {
          "iopub.status.busy": "2022-12-17T07:08:38.108577Z",
          "iopub.status.idle": "2022-12-17T07:08:38.109163Z"
        },
        "trusted": true,
        "id": "15xRnIgZJFOZ"
      },
      "execution_count": null,
      "outputs": []
    },
    {
      "cell_type": "markdown",
      "source": [
        "## Create ndarray with dtype"
      ],
      "metadata": {
        "id": "aDouVSf0JFOZ"
      }
    },
    {
      "cell_type": "code",
      "source": [
        "# Specify the dtype when creating the ndarray\n",
        "x = np.array([1.5, 2.2, 3.7, 4.0, 5.9], dtype = np.int64)"
      ],
      "metadata": {
        "_kg_hide-output": false,
        "execution": {
          "iopub.status.busy": "2022-12-17T07:08:38.110572Z",
          "iopub.status.idle": "2022-12-17T07:08:38.111081Z"
        },
        "trusted": true,
        "id": "Y0frW-Q3JFOZ"
      },
      "execution_count": null,
      "outputs": []
    },
    {
      "cell_type": "markdown",
      "source": [
        "## Save and load"
      ],
      "metadata": {
        "id": "C-RICk2dJFOZ"
      }
    },
    {
      "cell_type": "code",
      "source": [
        "# Save the array into a file\n",
        "np.save('my_array', x)\n",
        "\n",
        "# Load the saved array from current directory\n",
        "y = np.load('my_array.npy')"
      ],
      "metadata": {
        "_kg_hide-output": false,
        "execution": {
          "iopub.status.busy": "2022-12-17T07:08:38.112163Z",
          "iopub.status.idle": "2022-12-17T07:08:38.112645Z"
        },
        "trusted": true,
        "id": "xQXc6AJjJFOZ"
      },
      "execution_count": null,
      "outputs": []
    },
    {
      "cell_type": "markdown",
      "source": [
        "## Zeros"
      ],
      "metadata": {
        "id": "Pb39yKGJJFOZ"
      }
    },
    {
      "cell_type": "code",
      "source": [
        "# Create ndarray using built-in functions\n",
        "# 3 x 4 ndarray full of zeros\n",
        "# np.zeros(shape)\n",
        "X = np.zeros((3,4))"
      ],
      "metadata": {
        "_kg_hide-output": false,
        "execution": {
          "iopub.status.busy": "2022-12-17T07:08:38.113769Z",
          "iopub.status.idle": "2022-12-17T07:08:38.114250Z"
        },
        "trusted": true,
        "id": "EKZCCxidJFOZ"
      },
      "execution_count": null,
      "outputs": []
    },
    {
      "cell_type": "markdown",
      "source": [
        "## Ones"
      ],
      "metadata": {
        "id": "mQLRtibbJFOZ"
      }
    },
    {
      "cell_type": "code",
      "source": [
        "# a 3 x 2 ndarray full of ones\n",
        "# np.ones(shape)\n",
        "X = np.ones((3,2))"
      ],
      "metadata": {
        "_kg_hide-output": false,
        "execution": {
          "iopub.status.busy": "2022-12-17T07:08:38.217160Z",
          "iopub.execute_input": "2022-12-17T07:08:38.217584Z",
          "iopub.status.idle": "2022-12-17T07:08:38.232393Z",
          "shell.execute_reply.started": "2022-12-17T07:08:38.217518Z",
          "shell.execute_reply": "2022-12-17T07:08:38.231017Z"
        },
        "trusted": true,
        "id": "HeN7RXxTJFOZ",
        "outputId": "7689feb5-0f6a-4d51-fd92-d68bfea3517f"
      },
      "execution_count": null,
      "outputs": [
        {
          "traceback": [
            "\u001b[0;31m---------------------------------------------------------------------------\u001b[0m",
            "\u001b[0;31mNameError\u001b[0m                                 Traceback (most recent call last)",
            "\u001b[0;32m<ipython-input-16-bb851f9c10bb>\u001b[0m in \u001b[0;36m<module>\u001b[0;34m\u001b[0m\n\u001b[1;32m      1\u001b[0m \u001b[0;31m# a 3 x 2 ndarray full of ones\u001b[0m\u001b[0;34m\u001b[0m\u001b[0;34m\u001b[0m\u001b[0m\n\u001b[1;32m      2\u001b[0m \u001b[0;31m# np.ones(shape)\u001b[0m\u001b[0;34m\u001b[0m\u001b[0;34m\u001b[0m\u001b[0m\n\u001b[0;32m----> 3\u001b[0;31m \u001b[0mX\u001b[0m \u001b[0;34m=\u001b[0m \u001b[0mnp\u001b[0m\u001b[0;34m.\u001b[0m\u001b[0mones\u001b[0m\u001b[0;34m(\u001b[0m\u001b[0;34m(\u001b[0m\u001b[0;36m3\u001b[0m\u001b[0;34m,\u001b[0m\u001b[0;36m2\u001b[0m\u001b[0;34m)\u001b[0m\u001b[0;34m)\u001b[0m\u001b[0;34m\u001b[0m\u001b[0m\n\u001b[0m",
            "\u001b[0;31mNameError\u001b[0m: name 'np' is not defined"
          ],
          "ename": "NameError",
          "evalue": "name 'np' is not defined",
          "output_type": "error"
        }
      ]
    },
    {
      "cell_type": "markdown",
      "source": [
        "## Full"
      ],
      "metadata": {
        "id": "0gfpYVdCJFOZ"
      }
    },
    {
      "cell_type": "code",
      "source": [
        "# 2 x 3 ndarray full of fives\n",
        "# np.full(shape, constant value)\n",
        "X = np.full((2,3), 5)"
      ],
      "metadata": {
        "_kg_hide-output": false,
        "execution": {
          "iopub.status.busy": "2022-12-17T07:08:38.233495Z",
          "iopub.status.idle": "2022-12-17T07:08:38.233913Z"
        },
        "trusted": true,
        "id": "jjWB7aSuJFOZ"
      },
      "execution_count": null,
      "outputs": []
    },
    {
      "cell_type": "markdown",
      "source": [
        "## Identity Matrix"
      ],
      "metadata": {
        "id": "Dyq3jRZVJFOZ"
      }
    },
    {
      "cell_type": "code",
      "source": [
        "# Identity Matrix\n",
        "# Since all Identity Matrices are square, the np.eye() function only takes a single integer as an argument\n",
        "# 5 x 5 Identity matrix\n",
        "X = np.eye(5)"
      ],
      "metadata": {
        "_kg_hide-output": false,
        "execution": {
          "iopub.status.busy": "2022-12-17T07:08:38.235899Z",
          "iopub.status.idle": "2022-12-17T07:08:38.236374Z"
        },
        "trusted": true,
        "id": "y2hvB1u5JFOZ"
      },
      "execution_count": null,
      "outputs": []
    },
    {
      "cell_type": "markdown",
      "source": [
        "## Diagonal Matrix"
      ],
      "metadata": {
        "id": "Z6Df37QPJFOZ"
      }
    },
    {
      "cell_type": "code",
      "source": [
        "# Diagonal Matrix\n",
        "# 4 x 4 diagonal matrix that contains the numbers 10,20,30, and 50 on its main diagonal\n",
        "X = np.diag([10,20,30,50])"
      ],
      "metadata": {
        "_kg_hide-output": false,
        "execution": {
          "iopub.status.busy": "2022-12-17T07:08:38.237943Z",
          "iopub.status.idle": "2022-12-17T07:08:38.238484Z"
        },
        "trusted": true,
        "id": "f8902U4uJFOZ"
      },
      "execution_count": null,
      "outputs": []
    },
    {
      "cell_type": "markdown",
      "source": [
        "## Arange"
      ],
      "metadata": {
        "id": "cNDQJmt0JFOZ"
      }
    },
    {
      "cell_type": "code",
      "source": [
        "# Arange\n",
        "# rank 1 ndarray that has sequential integers from 0 to 9\n",
        "# x = [0 1 2 3 4 5 6 7 8 9]\n",
        "x = np.arange(10)\n",
        "\n",
        "# rank 1 ndarray that has sequential integers from 4 to 9\n",
        "# [start, stop)\n",
        "# x = [4 5 6 7 8 9]\n",
        "x = np.arange(4,10)\n",
        "\n",
        "# rank 1 ndarray that has evenly spaced integers from 1 to 13 in steps of 3.\n",
        "# np.arange(start,stop,step)\n",
        "# x = [ 1 4 7 10 13]\n",
        "x = np.arange(1,14,3)"
      ],
      "metadata": {
        "_kg_hide-output": false,
        "execution": {
          "iopub.status.busy": "2022-12-17T07:08:38.239884Z",
          "iopub.status.idle": "2022-12-17T07:08:38.240353Z"
        },
        "trusted": true,
        "id": "l9nj5c5xJFOa"
      },
      "execution_count": null,
      "outputs": []
    },
    {
      "cell_type": "markdown",
      "source": [
        "## Linspace"
      ],
      "metadata": {
        "id": "0vnGb3pNJFOa"
      }
    },
    {
      "cell_type": "code",
      "source": [
        "# Linspace\n",
        "# Even though the np.arange() function allows for non-integer steps,\n",
        "# such as 0.3, the output is usually inconsistent, due to the finite\n",
        "# floating point precision. For this reason, in the cases where\n",
        "# non-integer steps are required, it is usually better to use linspace()\n",
        "# becayse np.linspace() uses the number of elements we want in a\n",
        "# particular interval, instead of the step between values.\n",
        "# linspace returns N evenly spaced numbers over the closed interval [start, stop]\n",
        "# np.linspace(start, stop, N)\n",
        "# x = [ 0. 2.77777778 5.55555556 8.33333333 11.11111111 13.88888889 16.66666667 19.44444444 22.22222222 25. ]\n",
        "x = np.linspace(0,25,10)"
      ],
      "metadata": {
        "_kg_hide-output": false,
        "execution": {
          "iopub.status.busy": "2022-12-17T07:08:38.241881Z",
          "iopub.status.idle": "2022-12-17T07:08:38.242389Z"
        },
        "trusted": true,
        "id": "2eMA8rGlJFOa"
      },
      "execution_count": null,
      "outputs": []
    },
    {
      "cell_type": "markdown",
      "source": [
        "## Reshape"
      ],
      "metadata": {
        "id": "tzWyWaKwJFOa"
      }
    },
    {
      "cell_type": "code",
      "source": [
        "# Reshape\n",
        "# np.reshape(ndarray, new_shape)\n",
        "# converts the given ndarray into the specified new_shape\n",
        "x = np.arange(20)\n",
        "x = np.reshape(x, (4,5))\n",
        "# or\n",
        "x = np.arange(20).reshape(4, 5) # does the same thing as above\n",
        "# and the same thing with with linshape\n",
        "y = np.linspace(0,50,10, endpoint=False).reshape(5,2)\n",
        "# One great feature about NumPy, is that some functions can also be\n",
        "# applied as methods. This allows us to apply different functions in\n",
        "# sequence in just one line of code"
      ],
      "metadata": {
        "_kg_hide-output": false,
        "execution": {
          "iopub.status.busy": "2022-12-17T07:08:38.243537Z",
          "iopub.status.idle": "2022-12-17T07:08:38.244040Z"
        },
        "trusted": true,
        "id": "Tr3uJEpyJFOa"
      },
      "execution_count": null,
      "outputs": []
    },
    {
      "cell_type": "markdown",
      "source": [
        "## Slicing"
      ],
      "metadata": {
        "id": "K4tRxchKJFOa"
      }
    },
    {
      "cell_type": "code",
      "source": [
        "# Slicing\n",
        "# ndarray[start:end]\n",
        "# ndarray[start:]\n",
        "# ndarray[:end]\n",
        "# ndarray[<start>:<stop>:<step>]\n",
        "\n",
        "# In methods one and three, the end index is excluded [,)\n",
        "X = np.arange(20).reshape(4, 5)\n",
        "\n",
        "# select all the elements that are in the 2nd through 4th rows and in the 3rd to 5th columns\n",
        "Z = X[1:4,2:5]\n",
        "# or\n",
        "Z = X[1:,2:5]\n",
        "\n",
        "# elements = a_list[<start>:<stop>:<step>]\n",
        "# select all the elements in the 3rd row\n",
        "v = X[2,:] # v = [10 11 12 13 14]\n",
        "# select all the elements in the 3rd column\n",
        "q = X[:,2] # q = [ 2 7 12 17]\n",
        "# select all the elements in the 3rd column but return a rank 2 ndarray\n",
        "R = X[:,2:3]\n",
        "'''\n",
        "[[ 2]\n",
        " [ 7]\n",
        " [12]\n",
        " [17]]\n",
        "'''\n",
        "# Note: Slicing creates a view, not a copy\n",
        "# when we make assignments, such as: Z = X[1:4,2:5]\n",
        "# the slice of the original array X is not copied in the variable Z.\n",
        "# Rather, X and Z are now just two different names for the same ndarray.\n",
        "# We say that slicing only creates a view of the original array.\n",
        "# This means if we make changes to Z, X changes as well."
      ],
      "metadata": {
        "_kg_hide-output": false,
        "execution": {
          "iopub.status.busy": "2022-12-17T07:08:38.245215Z",
          "iopub.status.idle": "2022-12-17T07:08:38.246078Z"
        },
        "trusted": true,
        "id": "gJk5Jt6VJFOa"
      },
      "execution_count": null,
      "outputs": []
    },
    {
      "cell_type": "markdown",
      "source": [
        "## Random"
      ],
      "metadata": {
        "id": "gCWKQol8JFOd"
      }
    },
    {
      "cell_type": "code",
      "source": [
        "# Random\n",
        "# 3 x 3 ndarray with random floats in the half-open interval [0.0, 1.0).\n",
        "# np.random.random(shape)\n",
        "X = np.random.random((3,3))\n",
        "# np.random.randint(start, stop, size = shape)\n",
        "# [start, stop)\n",
        "X = np.random.randint(4,15,size=(3,2))\n",
        "\n",
        "# create ndarrays with random numbers that satisfy certain statistical properties\n",
        "# 1000 x 1000 ndarray of random floats drawn from normal (Gaussian)\n",
        "# distribution with a mean of zero and a standard deviation of 0.1.\n",
        "# np.random.normal(mean, standard deviation, size=shape)\n",
        "X = np.random.normal(0, 0.1, size=(1000,1000))"
      ],
      "metadata": {
        "_kg_hide-output": false,
        "execution": {
          "iopub.status.busy": "2022-12-17T07:08:38.247108Z",
          "iopub.status.idle": "2022-12-17T07:08:38.247621Z"
        },
        "trusted": true,
        "id": "50uHe9HVJFOd"
      },
      "execution_count": null,
      "outputs": []
    },
    {
      "cell_type": "markdown",
      "source": [
        "## Mutability"
      ],
      "metadata": {
        "id": "acR3_E5RJFOd"
      }
    },
    {
      "cell_type": "code",
      "source": [
        "# Mutability\n",
        "# Change ndarray\n",
        "x[3] = 20\n",
        "X[0,0] = 20"
      ],
      "metadata": {
        "_kg_hide-output": false,
        "execution": {
          "iopub.status.busy": "2022-12-17T07:08:38.248708Z",
          "iopub.status.idle": "2022-12-17T07:08:38.249197Z"
        },
        "trusted": true,
        "id": "tsc2hksaJFOd"
      },
      "execution_count": null,
      "outputs": []
    },
    {
      "cell_type": "markdown",
      "source": [
        "## Delete"
      ],
      "metadata": {
        "id": "l2RLbHMEJFOe"
      }
    },
    {
      "cell_type": "code",
      "source": [
        "# Delete\n",
        "# np.delete(ndarray, elements, axis)\n",
        "x = np.array([1, 2, 3, 4, 5])\n",
        "# delete the first and fifth element of x\n",
        "x = np.delete(x, [0,4])\n",
        "\n",
        "Y = np.array([[1,2,3],[4,5,6],[7,8,9]])\n",
        "# delete the first row of Y\n",
        "w = np.delete(Y, 0, axis=0)\n",
        "# delete the first and last column of Y\n",
        "v = np.delete(Y, [0,2], axis=1)"
      ],
      "metadata": {
        "_kg_hide-output": false,
        "execution": {
          "iopub.status.busy": "2022-12-17T07:08:38.354007Z",
          "iopub.execute_input": "2022-12-17T07:08:38.354628Z",
          "iopub.status.idle": "2022-12-17T07:08:38.374936Z",
          "shell.execute_reply.started": "2022-12-17T07:08:38.354288Z",
          "shell.execute_reply": "2022-12-17T07:08:38.372872Z"
        },
        "trusted": true,
        "id": "W9D7wAMnJFOe",
        "outputId": "9d81b5cb-e3dc-4b4a-dd55-1b9320da7f07"
      },
      "execution_count": null,
      "outputs": [
        {
          "traceback": [
            "\u001b[0;31m---------------------------------------------------------------------------\u001b[0m",
            "\u001b[0;31mNameError\u001b[0m                                 Traceback (most recent call last)",
            "\u001b[0;32m<ipython-input-17-227ef7b64999>\u001b[0m in \u001b[0;36m<module>\u001b[0;34m\u001b[0m\n\u001b[1;32m      1\u001b[0m \u001b[0;31m# Delete\u001b[0m\u001b[0;34m\u001b[0m\u001b[0;34m\u001b[0m\u001b[0m\n\u001b[1;32m      2\u001b[0m \u001b[0;31m# np.delete(ndarray, elements, axis)\u001b[0m\u001b[0;34m\u001b[0m\u001b[0;34m\u001b[0m\u001b[0m\n\u001b[0;32m----> 3\u001b[0;31m \u001b[0mx\u001b[0m \u001b[0;34m=\u001b[0m \u001b[0mnp\u001b[0m\u001b[0;34m.\u001b[0m\u001b[0marray\u001b[0m\u001b[0;34m(\u001b[0m\u001b[0;34m[\u001b[0m\u001b[0;36m1\u001b[0m\u001b[0;34m,\u001b[0m \u001b[0;36m2\u001b[0m\u001b[0;34m,\u001b[0m \u001b[0;36m3\u001b[0m\u001b[0;34m,\u001b[0m \u001b[0;36m4\u001b[0m\u001b[0;34m,\u001b[0m \u001b[0;36m5\u001b[0m\u001b[0;34m]\u001b[0m\u001b[0;34m)\u001b[0m\u001b[0;34m\u001b[0m\u001b[0m\n\u001b[0m\u001b[1;32m      4\u001b[0m \u001b[0;31m# delete the first and fifth element of x\u001b[0m\u001b[0;34m\u001b[0m\u001b[0;34m\u001b[0m\u001b[0m\n\u001b[1;32m      5\u001b[0m \u001b[0mx\u001b[0m \u001b[0;34m=\u001b[0m \u001b[0mnp\u001b[0m\u001b[0;34m.\u001b[0m\u001b[0mdelete\u001b[0m\u001b[0;34m(\u001b[0m\u001b[0mx\u001b[0m\u001b[0;34m,\u001b[0m \u001b[0;34m[\u001b[0m\u001b[0;36m0\u001b[0m\u001b[0;34m,\u001b[0m\u001b[0;36m4\u001b[0m\u001b[0;34m]\u001b[0m\u001b[0;34m)\u001b[0m\u001b[0;34m\u001b[0m\u001b[0m\n",
            "\u001b[0;31mNameError\u001b[0m: name 'np' is not defined"
          ],
          "ename": "NameError",
          "evalue": "name 'np' is not defined",
          "output_type": "error"
        }
      ]
    },
    {
      "cell_type": "markdown",
      "source": [
        "## Append"
      ],
      "metadata": {
        "id": "7k4_QvfPJFOe"
      }
    },
    {
      "cell_type": "code",
      "source": [
        "# Append\n",
        "# np.append(ndarray, elements, axis)\n",
        "# append the integer 6 to x\n",
        "x = np.append(x, 6)\n",
        "# append the integer 7 and 8 to x\n",
        "x = np.append(x, [7,8])\n",
        "# append a new row containing 7,8,9 to y\n",
        "v = np.append(Y, [[10,11,12]], axis=0)\n",
        "# append a new column containing 9 and 10 to y\n",
        "q = np.append(Y,[[13],[14],[15]], axis=1)"
      ],
      "metadata": {
        "_kg_hide-output": false,
        "execution": {
          "iopub.status.busy": "2022-12-17T07:08:38.376266Z",
          "iopub.status.idle": "2022-12-17T07:08:38.377834Z"
        },
        "trusted": true,
        "id": "Fxtpt1nkJFOe"
      },
      "execution_count": null,
      "outputs": []
    },
    {
      "cell_type": "markdown",
      "source": [
        "## Insert"
      ],
      "metadata": {
        "id": "NLsxBPTcJFOe"
      }
    },
    {
      "cell_type": "code",
      "source": [
        "# Insert\n",
        "# np.insert(ndarray, index, elements, axis)\n",
        "# inserts the given list of elements to ndarray right before\n",
        "# the given index along the specified axis\n",
        "x = np.array([1, 2, 5, 6, 7])\n",
        "Y = np.array([[1,2,3],[7,8,9]])\n",
        "# insert the integer 3 and 4 between 2 and 5 in x. \n",
        "x = np.insert(x,2,[3,4])\n",
        "# insert a row between the first and last row of Y\n",
        "w = np.insert(Y,1,[4,5,6],axis=0)\n",
        "# insert a column full of 5s between the first and second column of Y\n",
        "v = np.insert(Y,1,5, axis=1)"
      ],
      "metadata": {
        "_kg_hide-output": false,
        "execution": {
          "iopub.status.busy": "2022-12-17T07:08:38.380138Z",
          "iopub.status.idle": "2022-12-17T07:08:38.380783Z"
        },
        "trusted": true,
        "id": "vzy3XUd9JFOe"
      },
      "execution_count": null,
      "outputs": []
    },
    {
      "cell_type": "markdown",
      "source": [
        "## Stacking"
      ],
      "metadata": {
        "id": "gRLSMm4qJFOe"
      }
    },
    {
      "cell_type": "code",
      "source": [
        "# Stacking\n",
        "# NumPy also allows us to stack ndarrays on top of each other,\n",
        "# or to stack them side by side. The stacking is done using either\n",
        "# the np.vstack() function for vertical stacking, or the np.hstack()\n",
        "# function for horizontal stacking. It is important to note that in\n",
        "# order to stack ndarrays, the shape of the ndarrays must match.\n",
        "x = np.array([1,2])\n",
        "Y = np.array([[3,4],[5,6]])\n",
        "z = np.vstack((x,Y)) # [[1,2], [3,4], [5,6]]\n",
        "w = np.hstack((Y,x.reshape(2,1))) # [[3,4,1], [5,6,2]]"
      ],
      "metadata": {
        "_kg_hide-output": false,
        "execution": {
          "iopub.status.busy": "2022-12-17T07:08:38.382372Z",
          "iopub.status.idle": "2022-12-17T07:08:38.383098Z"
        },
        "trusted": true,
        "id": "wWANUPjYJFOe"
      },
      "execution_count": null,
      "outputs": []
    },
    {
      "cell_type": "markdown",
      "source": [
        "## Copy"
      ],
      "metadata": {
        "id": "Ekm0fGYJJFOe"
      }
    },
    {
      "cell_type": "code",
      "source": [
        "# Copy\n",
        "# if we want to create a new ndarray that contains a copy of the\n",
        "# values in the slice we need to use the np.copy()\n",
        "# create a copy of the slice using the np.copy() function\n",
        "Z = np.copy(X[1:4,2:5])\n",
        "#  create a copy of the slice using the copy as a method\n",
        "W = X[1:4,2:5].copy()"
      ],
      "metadata": {
        "_kg_hide-output": false,
        "execution": {
          "iopub.status.busy": "2022-12-17T07:08:38.385277Z",
          "iopub.status.idle": "2022-12-17T07:08:38.385870Z"
        },
        "trusted": true,
        "id": "pDwkVS0hJFOe"
      },
      "execution_count": null,
      "outputs": []
    },
    {
      "cell_type": "markdown",
      "source": [
        "## Extract elements along the diagonal"
      ],
      "metadata": {
        "id": "ElwOzVYgJFOe"
      }
    },
    {
      "cell_type": "code",
      "source": [
        "# Extract elements along the diagonal\n",
        "d0 = np.diag(X)\n",
        "# As default is k=0, which refers to the main diagonal.\n",
        "# Values of k > 0 are used to select elements in diagonals above\n",
        "# the main diagonal, and values of k < 0 are used to select elements\n",
        "# in diagonals below the main diagonal.\n",
        "d1 = np.diag(X, k=1)\n",
        "d2 = np.diag(X, k=-1)"
      ],
      "metadata": {
        "_kg_hide-output": false,
        "execution": {
          "iopub.status.busy": "2022-12-17T07:08:38.387902Z",
          "iopub.status.idle": "2022-12-17T07:08:38.388506Z"
        },
        "trusted": true,
        "id": "xjvvP5ZRJFOe"
      },
      "execution_count": null,
      "outputs": []
    },
    {
      "cell_type": "markdown",
      "source": [
        "## Find Unique Elements"
      ],
      "metadata": {
        "id": "CrnyLxq9JFOe"
      }
    },
    {
      "cell_type": "code",
      "source": [
        "# Find Unique Elements in ndarray\n",
        "u = np.unique(X)"
      ],
      "metadata": {
        "execution": {
          "iopub.status.busy": "2022-12-17T07:08:38.389964Z",
          "iopub.status.idle": "2022-12-17T07:08:38.390587Z"
        },
        "trusted": true,
        "id": "9REm05caJFOe"
      },
      "execution_count": null,
      "outputs": []
    },
    {
      "cell_type": "markdown",
      "source": [
        "## Boolean Indexing"
      ],
      "metadata": {
        "id": "6PHMSjmlJFOe"
      }
    },
    {
      "cell_type": "code",
      "source": [
        "# Boolean Indexing\n",
        "X = np.arange(25).reshape(5, 5)\n",
        "print('The elements in X that are greater than 10:', X[X > 10])\n",
        "print('The elements in X that less than or equal to 7:', X[X <= 7])\n",
        "print('The elements in X that are between 10 and 17:', X[(X > 10) & (X < 17)])\n",
        "\n",
        "# use Boolean indexing to assign the elements that\n",
        "# are between 10 and 17 the value of -1\n",
        "X[(X > 10) & (X < 17)] = -1"
      ],
      "metadata": {
        "execution": {
          "iopub.status.busy": "2022-12-17T07:08:38.392274Z",
          "iopub.status.idle": "2022-12-17T07:08:38.393010Z"
        },
        "trusted": true,
        "id": "jwWqKLeXJFOe"
      },
      "execution_count": null,
      "outputs": []
    },
    {
      "cell_type": "markdown",
      "source": [
        "## Set Operations"
      ],
      "metadata": {
        "id": "Ss03jMVVJFOe"
      }
    },
    {
      "cell_type": "code",
      "source": [
        "# Set Operations\n",
        "x = np.array([1,2,3,4,5])\n",
        "y = np.array([6,7,2,8,4])\n",
        "print('The elements that are both in x and y:', np.intersect1d(x,y))\n",
        "print('The elements that are in x that are not in y:', np.setdiff1d(x,y))\n",
        "print('All the elements of x and y:',np.union1d(x,y))"
      ],
      "metadata": {
        "execution": {
          "iopub.status.busy": "2022-12-17T07:08:38.394637Z",
          "iopub.status.idle": "2022-12-17T07:08:38.395181Z"
        },
        "trusted": true,
        "id": "sCd2LZVfJFOe"
      },
      "execution_count": null,
      "outputs": []
    },
    {
      "cell_type": "markdown",
      "source": [
        "## Sorting"
      ],
      "metadata": {
        "id": "DZUl6cs3JFOf"
      }
    },
    {
      "cell_type": "code",
      "source": [
        "# Sorting\n",
        "# When used as a function, it doesn't change the original ndarray\n",
        "s = np.sort(x)\n",
        "# When used as a method, the original array will be sorted\n",
        "x.sort()\n",
        "\n",
        "# sort x but only keep the unique elements in x\n",
        "s = np.sort(np.unique(x))\n",
        "\n",
        "# sort the columns of X\n",
        "s = np.sort(X, axis = 0)\n",
        "\n",
        "# sort the rows of X\n",
        "s = np.sort(X, axis = 1)"
      ],
      "metadata": {
        "execution": {
          "iopub.status.busy": "2022-12-17T07:08:38.498295Z",
          "iopub.execute_input": "2022-12-17T07:08:38.498696Z",
          "iopub.status.idle": "2022-12-17T07:08:38.518287Z",
          "shell.execute_reply.started": "2022-12-17T07:08:38.498636Z",
          "shell.execute_reply": "2022-12-17T07:08:38.515960Z"
        },
        "trusted": true,
        "id": "GW7r81EAJFOf",
        "outputId": "372148d4-5e6d-407b-86db-5dffbc7ba399"
      },
      "execution_count": null,
      "outputs": [
        {
          "traceback": [
            "\u001b[0;31m---------------------------------------------------------------------------\u001b[0m",
            "\u001b[0;31mNameError\u001b[0m                                 Traceback (most recent call last)",
            "\u001b[0;32m<ipython-input-18-6b0551a85000>\u001b[0m in \u001b[0;36m<module>\u001b[0;34m\u001b[0m\n\u001b[1;32m      1\u001b[0m \u001b[0;31m# Sorting\u001b[0m\u001b[0;34m\u001b[0m\u001b[0;34m\u001b[0m\u001b[0m\n\u001b[1;32m      2\u001b[0m \u001b[0;31m# When used as a function, it doesn't change the original ndarray\u001b[0m\u001b[0;34m\u001b[0m\u001b[0;34m\u001b[0m\u001b[0m\n\u001b[0;32m----> 3\u001b[0;31m \u001b[0ms\u001b[0m \u001b[0;34m=\u001b[0m \u001b[0mnp\u001b[0m\u001b[0;34m.\u001b[0m\u001b[0msort\u001b[0m\u001b[0;34m(\u001b[0m\u001b[0mx\u001b[0m\u001b[0;34m)\u001b[0m\u001b[0;34m\u001b[0m\u001b[0m\n\u001b[0m\u001b[1;32m      4\u001b[0m \u001b[0;31m# When used as a method, the original array will be sorted\u001b[0m\u001b[0;34m\u001b[0m\u001b[0;34m\u001b[0m\u001b[0m\n\u001b[1;32m      5\u001b[0m \u001b[0mx\u001b[0m\u001b[0;34m.\u001b[0m\u001b[0msort\u001b[0m\u001b[0;34m(\u001b[0m\u001b[0;34m)\u001b[0m\u001b[0;34m\u001b[0m\u001b[0m\n",
            "\u001b[0;31mNameError\u001b[0m: name 'np' is not defined"
          ],
          "ename": "NameError",
          "evalue": "name 'np' is not defined",
          "output_type": "error"
        }
      ]
    },
    {
      "cell_type": "markdown",
      "source": [
        "## Math Functions"
      ],
      "metadata": {
        "id": "KtiMcUvtJFOf"
      }
    },
    {
      "cell_type": "code",
      "source": [
        "# NumPy allows element-wise operations on ndarrays as well as\n",
        "# matrix operations. In order to do element-wise operations,\n",
        "# NumPy sometimes uses something called Broadcasting.\n",
        "# Broadcasting is the term used to describe how NumPy handles\n",
        "# element-wise arithmetic operations with ndarrays of different shapes.\n",
        "# For example, broadcasting is used implicitly when doing arithmetic\n",
        "# operations between scalars and ndarrays.\n",
        "x = np.array([1,2,3,4])\n",
        "y = np.array([5.5,6.5,7.5,8.5])\n",
        "np.add(x,y)\n",
        "np.subtract(x,y)\n",
        "np.multiply(x,y)\n",
        "np.divide(x,y)\n",
        "\n",
        "# in order to do these operations the shapes of the ndarrays\n",
        "# being operated on, must have the same shape or be broadcastable\n",
        "X = np.array([1,2,3,4]).reshape(2,2)\n",
        "Y = np.array([5.5,6.5,7.5,8.5]).reshape(2,2)\n",
        "np.add(X,Y)\n",
        "np.subtract(X,Y)\n",
        "np.multiply(X,Y)\n",
        "np.divide(X,Y)\n",
        "\n",
        "# apply mathematical functions to all elements of an ndarray at once\n",
        "np.exp(x)\n",
        "np.sqrt(x)\n",
        "np.power(x,2)"
      ],
      "metadata": {
        "execution": {
          "iopub.status.busy": "2022-12-17T07:08:38.519946Z",
          "iopub.status.idle": "2022-12-17T07:08:38.521104Z"
        },
        "trusted": true,
        "id": "TL5pTA6eJFOl"
      },
      "execution_count": null,
      "outputs": []
    },
    {
      "cell_type": "markdown",
      "source": [
        "## Statistical Functions"
      ],
      "metadata": {
        "id": "AUb8_e_OJFOl"
      }
    },
    {
      "cell_type": "code",
      "source": [
        "# Statistical Functions\n",
        "print('Average of all elements in X:', X.mean())\n",
        "print('Average of all elements in the columns of X:', X.mean(axis=0))\n",
        "print('Average of all elements in the rows of X:', X.mean(axis=1))\n",
        "print()\n",
        "print('Sum of all elements in X:', X.sum())\n",
        "print('Standard Deviation of all elements in X:', X.std())\n",
        "print('Median of all elements in X:', np.median(X))\n",
        "print('Maximum value of all elements in X:', X.max())\n",
        "print('Minimum value of all elements in X:', X.min())"
      ],
      "metadata": {
        "execution": {
          "iopub.status.busy": "2022-12-17T07:08:38.523159Z",
          "iopub.status.idle": "2022-12-17T07:08:38.523600Z"
        },
        "trusted": true,
        "id": "01qOTrT7JFOl"
      },
      "execution_count": null,
      "outputs": []
    },
    {
      "cell_type": "markdown",
      "source": [
        "## Broadcasting"
      ],
      "metadata": {
        "id": "wxs0mmZIJFOl"
      }
    },
    {
      "cell_type": "code",
      "source": [
        "# Broadcasting\n",
        "# NumPy is working behind the scenes to broadcast 3 along the ndarray\n",
        "# so that they have the same shape. This allows us to add 3 to each\n",
        "# element of X with just one line of code.\n",
        "print(4*X)\n",
        "print(4+X)\n",
        "print(4-X)\n",
        "print(4/X)\n",
        "# NumPy is able to add 1 x 3 and 3 x 1 ndarrays to 3 x 3 ndarrays\n",
        "# by broadcasting the smaller ndarrays along the big ndarray so that\n",
        "# they have compatible shapes. In general, NumPy can do this provided\n",
        "# that the smaller ndarray can be expanded to the shape of the larger\n",
        "# ndarray in such a way that the resulting broadcast is unambiguous.\n",
        "x = np.array([1,2,3])\n",
        "Y = np.array([[1,2,3],[4,5,6],[7,8,9]])\n",
        "Z = np.array([1,2,3]).reshape(3,1)\n",
        "print(x + Y)\n",
        "print(Z + Y)"
      ],
      "metadata": {
        "execution": {
          "iopub.status.busy": "2022-12-17T07:08:38.525042Z",
          "iopub.status.idle": "2022-12-17T07:08:38.525435Z"
        },
        "trusted": true,
        "id": "0cAS_TlqJFOl"
      },
      "execution_count": null,
      "outputs": []
    },
    {
      "cell_type": "markdown",
      "source": [
        "# Pandas (data manipulation and analysis)"
      ],
      "metadata": {
        "id": "RPKeFcbZJFOl"
      }
    },
    {
      "cell_type": "markdown",
      "source": [
        "[Jupyter Notebook Viewer](https://nbviewer.jupyter.org/github/ageron/handson-ml/blob/master/tools_pandas.ipynb)\n",
        "\n",
        "- Pandas is a package for data manipulation and analysis in Python. The name Pandas is derived from the econometrics term Panel Data. Pandas incorporates two additional data structures into Python, namely Pandas Series and Pandas DataFrame. These data structures allow us to work with labeled and relational data in an easy and intuitive manner.\n",
        "- Pandas Series and DataFrames are designed for fast data analysis and manipulation, as well as being flexible and easy to use. Below are just a few features that makes Pandas an excellent package for data analysis:\n",
        "    - Allows the use of labels for rows and columns\n",
        "    - Can calculate rolling statistics on time series data\n",
        "    - Easy handling of NaN values\n",
        "    - Is able to load data of different formats into DataFrames\n",
        "    - Can join and merge different datasets together\n",
        "- It builds on top of Numpy and Matplotlib\n",
        "- Documentation: [https://pandas.pydata.org/pandas-docs/stable/](https://pandas.pydata.org/pandas-docs/stable/)"
      ],
      "metadata": {
        "id": "DDYqJMDGJFOl"
      }
    },
    {
      "cell_type": "code",
      "source": [
        "import pandas as pd"
      ],
      "metadata": {
        "execution": {
          "iopub.status.busy": "2022-12-17T07:08:38.526293Z",
          "iopub.status.idle": "2022-12-17T07:08:38.526730Z"
        },
        "trusted": true,
        "id": "--FbrHY0JFOl"
      },
      "execution_count": 66,
      "outputs": []
    },
    {
      "cell_type": "markdown",
      "source": [
        "## Series (table with 1 column that can hold different data types)\n",
        "1D array-like object that can hold many data types. One of the main differences between Pandas Series and NumPy ndarrays is that you can assign an index label to each element in the Pandas Series. Another big difference is that Pandas Series can hold data of different data types.\n",
        "\n",
        "pd.Series(data, index)"
      ],
      "metadata": {
        "id": "YkZX0k8wJFOl"
      }
    },
    {
      "cell_type": "markdown",
      "source": [
        "### Create Series"
      ],
      "metadata": {
        "id": "mtBVyA_kJFOl"
      }
    },
    {
      "cell_type": "code",
      "source": [
        "groceries = pd.Series(data = [30, 6, 'Yes', 'No'], index = ['eggs', 'apples', 'milk', 'bread'])"
      ],
      "metadata": {
        "execution": {
          "iopub.status.busy": "2022-12-17T07:08:38.527644Z",
          "iopub.status.idle": "2022-12-17T07:08:38.527974Z"
        },
        "trusted": true,
        "id": "d7LYXAHxJFOl"
      },
      "execution_count": 67,
      "outputs": []
    },
    {
      "cell_type": "markdown",
      "source": [
        "### shape, size, values, index, ndim"
      ],
      "metadata": {
        "id": "Ojr6jNl9JFOl"
      }
    },
    {
      "cell_type": "code",
      "source": [
        "print('Groceries has shape:', groceries.shape)\n",
        "print('Groceries has dimension:', groceries.ndim)\n",
        "print('Groceries has a total of', groceries.size, 'elements')\n",
        "print('The data in Groceries is:', groceries.values)\n",
        "print('The index of Groceries is:', groceries.index)"
      ],
      "metadata": {
        "execution": {
          "iopub.status.busy": "2022-12-17T07:08:38.528829Z",
          "iopub.status.idle": "2022-12-17T07:08:38.529199Z"
        },
        "trusted": true,
        "colab": {
          "base_uri": "https://localhost:8080/"
        },
        "id": "EKlGnkeZJFOm",
        "outputId": "164eec69-3070-47ef-a2fa-94901e74cb59"
      },
      "execution_count": 68,
      "outputs": [
        {
          "output_type": "stream",
          "name": "stdout",
          "text": [
            "Groceries has shape: (4,)\n",
            "Groceries has dimension: 1\n",
            "Groceries has a total of 4 elements\n",
            "The data in Groceries is: [30 6 'Yes' 'No']\n",
            "The index of Groceries is: Index(['eggs', 'apples', 'milk', 'bread'], dtype='object')\n"
          ]
        }
      ]
    },
    {
      "cell_type": "markdown",
      "source": [
        "### check whether an index label exists in Series"
      ],
      "metadata": {
        "id": "dNvImnuWJFOm"
      }
    },
    {
      "cell_type": "code",
      "source": [
        "# check whether an index label exists in Series\n",
        "x = 'bananas' in groceries"
      ],
      "metadata": {
        "execution": {
          "iopub.status.busy": "2022-12-17T07:08:38.530064Z",
          "iopub.status.idle": "2022-12-17T07:08:38.530686Z"
        },
        "trusted": true,
        "id": "whLMWKkPJFOm"
      },
      "execution_count": null,
      "outputs": []
    },
    {
      "cell_type": "markdown",
      "source": [
        "### Accessing Elements"
      ],
      "metadata": {
        "id": "ikcOZCM2JFOm"
      }
    },
    {
      "cell_type": "code",
      "source": [
        "# Accessing Elements\n",
        "# using index labels:\n",
        "# single index label\n",
        "print('How many eggs do we need to buy:', groceries['eggs'])\n",
        "# access multiple index labels\n",
        "print('Do we need milk and bread:\\n', groceries[['milk', 'bread']]) \n",
        "# use loc to access multiple index labels\n",
        "print('How many eggs and apples do we need to buy:\\n', groceries.loc[['eggs', 'apples']]) \n",
        "\n",
        "# access elements in Groceries using numerical indices:\n",
        "# use multiple numerical indices\n",
        "print('How many eggs and apples do we need to buy:\\n',  groceries[[0, 1]]) \n",
        "# use a negative numerical index\n",
        "print('Do we need bread:\\n', groceries[[-1]]) \n",
        "# use a single numerical index\n",
        "print('How many eggs do we need to buy:', groceries[0]) \n",
        "# use iloc (stands for integer location) to access multiple numerical indices\n",
        "print('Do we need milk and bread:\\n', groceries.iloc[[2, 3]])\n",
        "# Since we can access elements in various ways, in order to remove\n",
        "# any ambiguity to whether we are referring to an index label\n",
        "# or numerical index, Pandas Series have two attributes,\n",
        "# .loc and .iloc to explicitly state what we mean. The attribute\n",
        "# .loc stands for location and it is used to explicitly state that\n",
        "# we are using a labeled index. Similarly, the attribute .iloc stands\n",
        "# for integer location and it is used to explicitly state that we are\n",
        "# using a numerical index."
      ],
      "metadata": {
        "execution": {
          "iopub.status.busy": "2022-12-17T07:08:38.531527Z",
          "iopub.status.idle": "2022-12-17T07:08:38.531858Z"
        },
        "trusted": true,
        "id": "PqC7avUkJFOm"
      },
      "execution_count": null,
      "outputs": []
    },
    {
      "cell_type": "code",
      "source": [
        "# access using Boolean Indexes\n",
        "time_light[time_light<40]"
      ],
      "metadata": {
        "_kg_hide-output": true,
        "execution": {
          "iopub.status.busy": "2022-12-17T07:08:38.532950Z",
          "iopub.status.idle": "2022-12-17T07:08:38.533744Z"
        },
        "trusted": true,
        "id": "Tlppm9jhJFOm"
      },
      "execution_count": null,
      "outputs": []
    },
    {
      "cell_type": "markdown",
      "source": [
        "### Change Elements"
      ],
      "metadata": {
        "id": "xs7VmEC4JFOm"
      }
    },
    {
      "cell_type": "code",
      "source": [
        "# Change Elements\n",
        "groceries['eggs'] = 2"
      ],
      "metadata": {
        "execution": {
          "iopub.status.busy": "2022-12-17T07:08:38.637260Z",
          "iopub.execute_input": "2022-12-17T07:08:38.637645Z",
          "iopub.status.idle": "2022-12-17T07:08:38.652773Z",
          "shell.execute_reply.started": "2022-12-17T07:08:38.637581Z",
          "shell.execute_reply": "2022-12-17T07:08:38.650278Z"
        },
        "trusted": true,
        "id": "rkEtjppKJFOm",
        "outputId": "041c82be-102b-4e7b-99b9-7b3cb54398c7"
      },
      "execution_count": null,
      "outputs": [
        {
          "traceback": [
            "\u001b[0;31m---------------------------------------------------------------------------\u001b[0m",
            "\u001b[0;31mNameError\u001b[0m                                 Traceback (most recent call last)",
            "\u001b[0;32m<ipython-input-19-9619e7d937e8>\u001b[0m in \u001b[0;36m<module>\u001b[0;34m\u001b[0m\n\u001b[1;32m      1\u001b[0m \u001b[0;31m# Change Elements\u001b[0m\u001b[0;34m\u001b[0m\u001b[0;34m\u001b[0m\u001b[0m\n\u001b[0;32m----> 2\u001b[0;31m \u001b[0mgroceries\u001b[0m\u001b[0;34m[\u001b[0m\u001b[0;34m'eggs'\u001b[0m\u001b[0;34m]\u001b[0m \u001b[0;34m=\u001b[0m \u001b[0;36m2\u001b[0m\u001b[0;34m\u001b[0m\u001b[0m\n\u001b[0m",
            "\u001b[0;31mNameError\u001b[0m: name 'groceries' is not defined"
          ],
          "ename": "NameError",
          "evalue": "name 'groceries' is not defined",
          "output_type": "error"
        }
      ]
    },
    {
      "cell_type": "markdown",
      "source": [
        "### Delete Elements"
      ],
      "metadata": {
        "id": "yjWXnaUtJFOm"
      }
    },
    {
      "cell_type": "code",
      "source": [
        "# Delete Elements\n",
        "# doesn't change the original Series being modified\n",
        "groceries.drop('apples')\n",
        "# delete items from Series in place by setting keyword inplace to True\n",
        "groceries.drop('apples', inplace = True)"
      ],
      "metadata": {
        "execution": {
          "iopub.status.busy": "2022-12-17T07:08:38.654299Z",
          "iopub.status.idle": "2022-12-17T07:08:38.654993Z"
        },
        "trusted": true,
        "id": "gFK7Co31JFOm"
      },
      "execution_count": null,
      "outputs": []
    },
    {
      "cell_type": "markdown",
      "source": [
        "### Arithmetic Operations"
      ],
      "metadata": {
        "id": "eWBonuS3JFOm"
      }
    },
    {
      "cell_type": "code",
      "source": [
        "# Arithmetic Operations\n",
        "# we can perform element-wise arithmetic operations on Pandas Series\n",
        "fruits = pd.Series(data = [10, 6, 3,], index = ['apples', 'oranges', 'bananas'])\n",
        "fruits + 2 # Adds 2 to all elements in the series\n",
        "fruits - 2\n",
        "fruits * 2\n",
        "fruits / 2\n",
        "# apply mathematical functions from NumPy to all elements of a Series\n",
        "np.exp(fruits)\n",
        "np.sqrt(fruits)\n",
        "np.power(fruits,2)\n",
        "# only apply arithmetic operations on selected items in Series\n",
        "fruits['bananas'] + 2\n",
        "fruits.iloc[0] - 2\n",
        "fruits[['apples', 'oranges']] * 2\n",
        "# you can apply arithmetic operations on a Series of mixed data\n",
        "# type provided that the arithmetic operation is defined for all\n",
        "# data types in the Series, otherwise you will get an error"
      ],
      "metadata": {
        "execution": {
          "iopub.status.busy": "2022-12-17T07:08:38.657133Z",
          "iopub.status.idle": "2022-12-17T07:08:38.658208Z"
        },
        "trusted": true,
        "id": "QptZyb2AJFOm"
      },
      "execution_count": null,
      "outputs": []
    },
    {
      "cell_type": "markdown",
      "source": [
        "## Dataframe (table with multiple columns)\n",
        "Pandas DataFrames are two-dimensional data structures with labeled rows and columns, that can hold many data types."
      ],
      "metadata": {
        "id": "sPwSKsmQJFOm"
      }
    },
    {
      "cell_type": "markdown",
      "source": [
        "### Axes"
      ],
      "metadata": {
        "id": "lMwzFSwfJFOm"
      }
    },
    {
      "cell_type": "code",
      "source": [
        "# understanding axes\n",
        "df.sum()       \n",
        "# sums “down” the 0 axis (rows)\n",
        "df.sum(axis=0) \n",
        "# equivalent (since axis=0 is the default)\n",
        "df.sum(axis=1) \n",
        "# sums “across” the 1 axis (columns)"
      ],
      "metadata": {
        "_kg_hide-output": true,
        "execution": {
          "iopub.status.busy": "2022-12-17T07:08:38.660245Z",
          "iopub.status.idle": "2022-12-17T07:08:38.660858Z"
        },
        "trusted": true,
        "id": "zzAntI-tJFOm"
      },
      "execution_count": null,
      "outputs": []
    },
    {
      "cell_type": "markdown",
      "source": [
        "### Loading Data into DF"
      ],
      "metadata": {
        "id": "SOttSYdMJFOn"
      }
    },
    {
      "cell_type": "code",
      "source": [
        "# Loading Data into DF\n",
        "df = pd.read_csv('marauders_map.csv')\n",
        "\n",
        "# limit which rows are read when reading in a file\n",
        "pd.read_csv(‘df.csv’, nrows=10)        \n",
        "# only read first 10 rows\n",
        "\n",
        "pd.read_csv(‘df.csv’, skiprows=[1, 2]) \n",
        "# skip the first two rows of data\n",
        "\n",
        "# randomly sample a DataFrame\n",
        "train = df.sample(frac=0.75, random_column_y=1) \n",
        "# will contain 75% of the rows\n",
        "\n",
        "test = df[~df.index.isin(train.index)] \n",
        "# will contain the other 25%\n",
        "\n",
        "# change the maximum number of rows and columns printed (‘None’ means unlimited)\n",
        "pd.set_option(‘max_rows’, None) \n",
        "# default is 60 rows\n",
        "\n",
        "pd.set_option(‘max_columns’, None) \n",
        "# default is 20 columns\n",
        "print df\n",
        "\n",
        "# reset options to defaults\n",
        "pd.reset_option(‘max_rows’)\n",
        "pd.reset_option(‘max_columns’)\n",
        "\n",
        "# change the options temporarily (settings are restored when you exit the ‘with’ block)\n",
        "with pd.option_context(‘max_rows’, None, ‘max_columns’, None):\n",
        "    print df"
      ],
      "metadata": {
        "_kg_hide-output": true,
        "execution": {
          "iopub.status.busy": "2022-12-17T07:08:38.663013Z",
          "iopub.status.idle": "2022-12-17T07:08:38.664049Z"
        },
        "trusted": true,
        "id": "11uMXrueJFOn"
      },
      "execution_count": null,
      "outputs": []
    },
    {
      "cell_type": "markdown",
      "source": [
        "### Create Dataframe"
      ],
      "metadata": {
        "id": "NO8cCp6iJFOn"
      }
    },
    {
      "cell_type": "code",
      "source": [
        "# Create a DataFrame manually from a dictionary of Pandas Series\n",
        "\n",
        "# create a dictionary of Pandas Series \n",
        "items = {'Bob' : pd.Series(data = [245, 25, 55], index = ['bike', 'pants', 'watch']),\n",
        "         'Alice' : pd.Series(data = [40, 110, 500, 45], index = ['book', 'glasses', 'bike', 'pants'])}\n",
        "\n",
        "# print the type of items to see that it is a dictionary\n",
        "print(type(items)) # class 'dict'\n",
        "\n",
        "# create a Pandas DataFrame by passing it a dictionary of Series\n",
        "shopping_carts = pd.DataFrame(items)\n",
        "\n",
        "# create a DataFrame that only has a subset of the data/columns\n",
        "bob_shopping_cart = pd.DataFrame(items, columns=['Bob'])\n",
        "\n",
        "# create a DataFrame that only has selected keys\n",
        "sel_shopping_cart = pd.DataFrame(items, index = ['pants', 'book'])\n",
        "\n",
        "# combine both of the above - selected keys for selected columns\n",
        "alice_sel_shopping_cart = pd.DataFrame(items, index = ['glasses', 'bike'], columns = ['Alice'])\n",
        "\n",
        "# create DataFrames from a dictionary of lists (arrays)\n",
        "# In this case, however, all the lists (arrays) in the dictionary must be of the same length\n",
        "\n",
        "# create a dictionary of lists (arrays)\n",
        "data = {'Integers' : [1,2,3],\n",
        "        'Floats' : [4.5, 8.2, 9.6]}\n",
        "\n",
        "# create a DataFrame \n",
        "df = pd.DataFrame(data)\n",
        "\n",
        "# create a DataFrame and provide the row index\n",
        "df = pd.DataFrame(data, index = ['label 1', 'label 2', 'label 3'])\n",
        "\n",
        "# create DataFrames from a list of Python dictionaries\n",
        "# create a list of Python dictionaries\n",
        "items2 = [{'bikes': 20, 'pants': 30, 'watches': 35}, \n",
        "          {'watches': 10, 'glasses': 50, 'bikes': 15, 'pants':5}]\n",
        "\n",
        "# create a DataFrame \n",
        "store_items = pd.DataFrame(items2)\n",
        "\n",
        "# create a DataFrame and provide the row index\n",
        "store_items = pd.DataFrame(items2, index = ['store 1', 'store 2'])\n",
        "\n",
        "print('shopping_carts has shape:', shopping_carts.shape)\n",
        "print('shopping_carts has dimension:', shopping_carts.ndim)\n",
        "print('shopping_carts has a total of:', shopping_carts.size, 'elements')\n",
        "print()\n",
        "print('The data in shopping_carts is:\\n', shopping_carts.values)\n",
        "print()\n",
        "print('The row index in shopping_carts is:', shopping_carts.index)\n",
        "print()\n",
        "print('The column index in shopping_carts is:', shopping_carts.columns)"
      ],
      "metadata": {
        "execution": {
          "iopub.status.busy": "2022-12-17T07:08:38.665598Z",
          "iopub.status.idle": "2022-12-17T07:08:38.666379Z"
        },
        "trusted": true,
        "id": "PIEJgmdLJFOn"
      },
      "execution_count": null,
      "outputs": []
    },
    {
      "cell_type": "markdown",
      "source": [
        "### Create df from Series, dicts"
      ],
      "metadata": {
        "id": "D_jx_VsfJFOn"
      }
    },
    {
      "cell_type": "code",
      "source": [
        "# Create dictionary from a bunch of Series/data\n",
        "books = pd.Series(data = ['Great Expectations', 'Of Mice and Men', 'Romeo and Juliet', 'The Time Machine', 'Alice in Wonderland' ])\n",
        "authors = pd.Series(data = ['Charles Dickens', 'John Steinbeck', 'William Shakespeare', ' H. G. Wells', 'Lewis Carroll' ])\n",
        "user_1 = pd.Series(data = [3.2, np.nan ,2.5])\n",
        "user_2 = pd.Series(data = [5., 1.3, 4.0, 3.8])\n",
        "user_3 = pd.Series(data = [2.0, 2.3, np.nan, 4])\n",
        "user_4 = pd.Series(data = [4, 3.5, 4, 5, 4.2])\n",
        "\n",
        "# Create a dictionary with the data given above\n",
        "a_dict = {'Author':authors,'Book Title':books,'User 1':user_1, 'User 2':user_2, 'User 3':user_3, 'User 4':user_4}\n",
        "\n",
        "# Use the dictionary to create a Pandas DataFrame\n",
        "book_ratings = pd.DataFrame(a_dict)\n",
        "book_ratings[:5]"
      ],
      "metadata": {
        "execution": {
          "iopub.status.busy": "2022-12-17T07:08:38.668348Z",
          "iopub.status.idle": "2022-12-17T07:08:38.668986Z"
        },
        "trusted": true,
        "id": "W6nY0fJBJFOn"
      },
      "execution_count": null,
      "outputs": []
    },
    {
      "cell_type": "code",
      "source": [
        "# convert to numpy array (remove the column names, get just the values to convert it into a numpy array)\n",
        "book_ratings_numpy = book_ratings.values\n",
        "book_ratings_numpy"
      ],
      "metadata": {
        "execution": {
          "iopub.status.busy": "2022-12-17T07:08:38.670831Z",
          "iopub.status.idle": "2022-12-17T07:08:38.671547Z"
        },
        "trusted": true,
        "id": "WDaMEzp-JFOn"
      },
      "execution_count": null,
      "outputs": []
    },
    {
      "cell_type": "code",
      "source": [
        "#### create a DataFrame from a dictionary\n",
        "pd.DataFrame({‘column_x’:[‘value_x1’, ‘value_x2’, ‘value_x3’], ‘column_y’:[‘value_y1’, ‘value_y2’, ‘value_y3’]})\n",
        "\n",
        "#### create a DataFrame from a list of lists\n",
        "pd.DataFrame([[‘value_x1’, ‘value_y1’], [‘value_x2’, ‘value_y2’], [‘value_x3’, ‘value_y3’]], columns=[‘column_x’, ‘column_y’])"
      ],
      "metadata": {
        "execution": {
          "iopub.status.busy": "2022-12-17T07:08:38.672992Z",
          "iopub.status.idle": "2022-12-17T07:08:38.673958Z"
        },
        "trusted": true,
        "id": "0zfklnIEJFOn"
      },
      "execution_count": null,
      "outputs": []
    },
    {
      "cell_type": "markdown",
      "source": [
        "### Access Elements"
      ],
      "metadata": {
        "id": "B-LNk7XAJFOn"
      }
    },
    {
      "cell_type": "code",
      "source": [
        "# Access Elements\n",
        "print()\n",
        "print('How many bikes are in each store:\\n', store_items[['bikes']])\n",
        "print()\n",
        "print('How many bikes and pants are in each store:\\n', store_items[['bikes', 'pants']])\n",
        "print()\n",
        "print('What items are in Store 1:\\n', store_items.loc[['store 1']])\n",
        "print()\n",
        "print('How many bikes are in Store 2:', store_items['bikes']['store 2'])\n",
        "# when accessing individual elements in a DataFrame, the labels\n",
        "# should always be provided with the column label first,\n",
        "# i.e. in the form dataframe[column][row]\n",
        "# store_items for reference:\n",
        "#          bikes\tglasses\tpants\twatches\n",
        "# store 1\t    20\t   NaN\t   30\t     35\n",
        "# store 2\t    15\t  50.0\t    5\t     10"
      ],
      "metadata": {
        "execution": {
          "iopub.status.busy": "2022-12-17T07:08:38.675615Z",
          "iopub.status.idle": "2022-12-17T07:08:38.676565Z"
        },
        "trusted": true,
        "id": "tc8fPh8ZJFOn"
      },
      "execution_count": null,
      "outputs": []
    },
    {
      "cell_type": "markdown",
      "source": [
        "### Modify Elements"
      ],
      "metadata": {
        "id": "QVi2keTUJFOq"
      }
    },
    {
      "cell_type": "code",
      "source": [
        "# Modify Elements\n",
        "# Add new column (adds it to the end of the df)\n",
        "store_items['shirts'] = [15,2]\n",
        "\n",
        "# New column via artihmetic operations b/w columns\n",
        "store_items['suits'] = store_items['pants'] + store_items['shirts']\n",
        "\n",
        "# Add new row\n",
        "\n",
        "# To add rows to our df, create a new df then append it to the original df\n",
        "# create a dictionary from a list of Python dictionaries\n",
        "new_items = [{'bikes': 20, 'pants': 30, 'watches': 35, 'glasses': 4}]\n",
        "\n",
        "# create new DataFrame with the new_items and provide and index labeled store 3\n",
        "new_store = pd.DataFrame(new_items, index = ['store 3'])\n",
        "\n",
        "# append store 3 to our store_items DataFrame\n",
        "store_items = store_items.append(new_store)\n",
        "\n",
        "# insert a new column with label shoes right before the column with numerical index 4\n",
        "store_items.insert(4, 'shoes', [8,5,0])"
      ],
      "metadata": {
        "execution": {
          "iopub.status.busy": "2022-12-17T07:08:38.779966Z",
          "iopub.execute_input": "2022-12-17T07:08:38.780376Z",
          "iopub.status.idle": "2022-12-17T07:08:38.798143Z",
          "shell.execute_reply.started": "2022-12-17T07:08:38.780302Z",
          "shell.execute_reply": "2022-12-17T07:08:38.796269Z"
        },
        "trusted": true,
        "id": "PpzR0SRSJFOq",
        "outputId": "d8915e6c-208e-4c63-e1fe-9bb4ddf148d5"
      },
      "execution_count": null,
      "outputs": [
        {
          "traceback": [
            "\u001b[0;31m---------------------------------------------------------------------------\u001b[0m",
            "\u001b[0;31mNameError\u001b[0m                                 Traceback (most recent call last)",
            "\u001b[0;32m<ipython-input-20-a87d97733935>\u001b[0m in \u001b[0;36m<module>\u001b[0;34m\u001b[0m\n\u001b[1;32m      1\u001b[0m \u001b[0;31m# Modify Elements\u001b[0m\u001b[0;34m\u001b[0m\u001b[0;34m\u001b[0m\u001b[0m\n\u001b[1;32m      2\u001b[0m \u001b[0;31m# Add new column (adds it to the end of the df)\u001b[0m\u001b[0;34m\u001b[0m\u001b[0;34m\u001b[0m\u001b[0m\n\u001b[0;32m----> 3\u001b[0;31m \u001b[0mstore_items\u001b[0m\u001b[0;34m[\u001b[0m\u001b[0;34m'shirts'\u001b[0m\u001b[0;34m]\u001b[0m \u001b[0;34m=\u001b[0m \u001b[0;34m[\u001b[0m\u001b[0;36m15\u001b[0m\u001b[0;34m,\u001b[0m\u001b[0;36m2\u001b[0m\u001b[0;34m]\u001b[0m\u001b[0;34m\u001b[0m\u001b[0m\n\u001b[0m\u001b[1;32m      4\u001b[0m \u001b[0;34m\u001b[0m\u001b[0m\n\u001b[1;32m      5\u001b[0m \u001b[0;31m# New column via artihmetic operations b/w columns\u001b[0m\u001b[0;34m\u001b[0m\u001b[0;34m\u001b[0m\u001b[0m\n",
            "\u001b[0;31mNameError\u001b[0m: name 'store_items' is not defined"
          ],
          "ename": "NameError",
          "evalue": "name 'store_items' is not defined",
          "output_type": "error"
        }
      ]
    },
    {
      "cell_type": "markdown",
      "source": [
        "### Delete Element"
      ],
      "metadata": {
        "id": "ucROg0UsJFOt"
      }
    },
    {
      "cell_type": "code",
      "source": [
        "# Delete Element\n",
        "\n",
        "# .pop() method only allows us to delete columns, while the .drop()\n",
        "# method can be used to delete both rows and columns by use of the axis keyword\n",
        "\n",
        "# remove the new watches column\n",
        "store_items.pop('new watches')\n",
        "\n",
        "# remove the watches and shoes columns\n",
        "store_items = store_items.drop(['watches', 'shoes'], axis = 1)\n",
        "\n",
        "# remove the store 2 and store 1 rows\n",
        "store_items = store_items.drop(['store 2', 'store 1'], axis = 0)"
      ],
      "metadata": {
        "_kg_hide-output": true,
        "execution": {
          "iopub.status.busy": "2022-12-17T07:08:38.799278Z",
          "iopub.status.idle": "2022-12-17T07:08:38.800198Z"
        },
        "trusted": true,
        "id": "r0a5FDHXJFOu"
      },
      "execution_count": null,
      "outputs": []
    },
    {
      "cell_type": "markdown",
      "source": [
        "### Rename the row and column labels"
      ],
      "metadata": {
        "id": "6xhsFUY2JFOv"
      }
    },
    {
      "cell_type": "code",
      "source": [
        "# Rename the row and column labels\n",
        "# change the column label\n",
        "store_items = store_items.rename(columns = {'bikes': 'hats'})\n",
        "# change the row label\n",
        "store_items = store_items.rename(index = {'store 3': 'last store'})"
      ],
      "metadata": {
        "execution": {
          "iopub.status.busy": "2022-12-17T07:08:38.801621Z",
          "iopub.status.idle": "2022-12-17T07:08:38.802119Z"
        },
        "trusted": true,
        "id": "N9otCwxEJFOv"
      },
      "execution_count": null,
      "outputs": []
    },
    {
      "cell_type": "markdown",
      "source": [
        "### Change index"
      ],
      "metadata": {
        "id": "rL3CN9o4JFOv"
      }
    },
    {
      "cell_type": "code",
      "source": [
        "# change the index to be one of the columns in the DataFrame\n",
        "store_items = store_items.set_index('pants')"
      ],
      "metadata": {
        "execution": {
          "iopub.status.busy": "2022-12-17T07:08:38.803177Z",
          "iopub.status.idle": "2022-12-17T07:08:38.804017Z"
        },
        "trusted": true,
        "id": "jTv_Sl4wJFOv"
      },
      "execution_count": null,
      "outputs": []
    },
    {
      "cell_type": "markdown",
      "source": [
        "### Dealing with NaN values (missing data)"
      ],
      "metadata": {
        "id": "hncnDXAmJFOv"
      }
    },
    {
      "cell_type": "code",
      "source": [
        "# Dealing with NaN values (missing data)\n",
        "\n",
        "# create a list of Python dictionaries\n",
        "items2 = [{'bikes': 20, 'pants': 30, 'watches': 35, 'shirts': 15, 'shoes':8, 'suits':45},\n",
        "{'watches': 10, 'glasses': 50, 'bikes': 15, 'pants':5, 'shirts': 2, 'shoes':5, 'suits':7},\n",
        "{'bikes': 20, 'pants': 30, 'watches': 35, 'glasses': 4, 'shoes':10}]\n",
        "\n",
        "# We create a DataFrame and provide the row index\n",
        "store_items = pd.DataFrame(items2, index = ['store 1', 'store 2', 'store 3'])\n",
        "\n",
        "# check if we have any NaN values in our dataset\n",
        "# .any() performs an or operation. If any of the values along the\n",
        "# specified axis is True, this will return True.\n",
        "df.isnull().any()\n",
        "'''\n",
        "Date   False\n",
        "Open   True\n",
        "High   False\n",
        "Low    False\n",
        "Close  False\n",
        "Volume False\n",
        "dtype: bool\n",
        "'''\n",
        "\n",
        "# count the number of NaN values in DataFrame\n",
        "x =  store_items.isnull().sum().sum()\n",
        "# count the number of non-NaN values in DataFrame\n",
        "x = store_items.count()\n",
        "\n",
        "# remove rows or columns from our DataFrame that contain any NaN values\n",
        "\n",
        "# drop any rows with NaN values\n",
        "store_items.dropna(axis = 0)\n",
        "\n",
        "# drop any columns with NaN values\n",
        "store_items.dropna(axis = 1)\n",
        "\n",
        "# the original DataFrame is not modified by default\n",
        "# to remove missing values from original df, use inplace = True\n",
        "store_items.dropna(axis = 0, inplace = True)\n",
        "\n",
        "# replace all NaN values with 0\n",
        "store_items.fillna(0)\n",
        "\n",
        "# forward filling: replace NaN values with previous values in the df,\n",
        "# this is known as . When replacing NaN values with forward filling,\n",
        "# we can use previous values taken from columns or rows.\n",
        "# replace NaN values with the previous value in the column\n",
        "store_items.fillna(method = 'ffill', axis = 0)\n",
        "\n",
        "# backward filling: replace the NaN values with the values that\n",
        "# go after them in the DataFrame\n",
        "# replace NaN values with the next value in the row\n",
        "store_items.fillna(method = 'backfill', axis = 1)\n",
        "\n",
        "# replace NaN values by using linear interpolation using column values\n",
        "store_items.interpolate(method = 'linear', axis = 0)\n",
        "\n",
        "# the original DataFrame is not modified. replace the NaN values\n",
        "# in place by setting inplace = True inside function\n",
        "store_items.fillna(method = 'ffill', axis = 0, inplace = True)\n",
        "store_items.interpolate(method = 'linear', axis = 0, inplace = True)"
      ],
      "metadata": {
        "execution": {
          "iopub.status.busy": "2022-12-17T07:08:38.805233Z",
          "iopub.status.idle": "2022-12-17T07:08:38.805675Z"
        },
        "trusted": true,
        "id": "iuhMPOodJFOv"
      },
      "execution_count": null,
      "outputs": []
    },
    {
      "cell_type": "markdown",
      "source": [
        "### Overview of data:head, tail, describe, max, memory_usage"
      ],
      "metadata": {
        "id": "zGnsWuIVJFOw"
      }
    },
    {
      "cell_type": "code",
      "source": [
        "df.head()\n",
        "df.tail()\n",
        "\n",
        "#give you statistics of each column\n",
        "df.describe()\n",
        "\n",
        "# prints max value in each column\n",
        "df.max()\n",
        "\n",
        "# display the memory usage of a DataFrame\n",
        "# total usage\n",
        "df.info()\n",
        "\n",
        "# usage by column\n",
        "df.memory_usage()"
      ],
      "metadata": {
        "execution": {
          "iopub.status.busy": "2022-12-17T07:08:38.807091Z",
          "iopub.status.idle": "2022-12-17T07:08:38.807529Z"
        },
        "trusted": true,
        "id": "xCUoc57iJFOw"
      },
      "execution_count": null,
      "outputs": []
    },
    {
      "cell_type": "markdown",
      "source": [
        "### corr"
      ],
      "metadata": {
        "id": "oDXHl6DOJFOw"
      }
    },
    {
      "cell_type": "code",
      "source": [
        "# get the correlation between different columns\n",
        "df.corr()"
      ],
      "metadata": {
        "execution": {
          "iopub.status.busy": "2022-12-17T07:08:38.808660Z",
          "iopub.status.idle": "2022-12-17T07:08:38.809183Z"
        },
        "trusted": true,
        "id": "2l8f9xM-JFOw"
      },
      "execution_count": null,
      "outputs": []
    },
    {
      "cell_type": "markdown",
      "source": [
        "### Groupby"
      ],
      "metadata": {
        "id": "blUUincAJFOw"
      }
    },
    {
      "cell_type": "code",
      "source": [
        "# Groupby\n",
        "data.groupby(['Year'])\n",
        "data.groupby(['Year'])['Salary']\n",
        "\n",
        "# display the average salary per year\n",
        "data.groupby(['Year'])['Salary'].mean()\n",
        "\n",
        "# display the total salary each employee received in all the years they worked for the company\n",
        "data.groupby(['Name'])['Salary'].sum()\n",
        "\n",
        "# group the data by Year and by Department\n",
        "data.groupby(['Year', 'Department'])['Salary'].sum()"
      ],
      "metadata": {
        "_kg_hide-output": true,
        "execution": {
          "iopub.status.busy": "2022-12-17T07:08:38.810577Z",
          "iopub.status.idle": "2022-12-17T07:08:38.811053Z"
        },
        "trusted": true,
        "id": "9oey2so1JFOw"
      },
      "execution_count": null,
      "outputs": []
    },
    {
      "cell_type": "markdown",
      "source": [
        "### Replace Values"
      ],
      "metadata": {
        "id": "CFshVyUHJFOx"
      }
    },
    {
      "cell_type": "code",
      "source": [
        "# Replace Values\n",
        "s = pd.Series(['cat', 'dog', np.nan, 'rabbit'])\n",
        "s.map({'cat': 'kitten', 'dog': 'puppy'})\n",
        "# another e.g.\n",
        "df['label'] = df['label'].map({'ham':0,'spam':1})"
      ],
      "metadata": {
        "_kg_hide-output": true,
        "execution": {
          "iopub.status.busy": "2022-12-17T07:08:38.812444Z",
          "iopub.status.idle": "2022-12-17T07:08:38.812969Z"
        },
        "trusted": true,
        "id": "EvbuBcClJFOx"
      },
      "execution_count": null,
      "outputs": []
    },
    {
      "cell_type": "markdown",
      "source": [
        "### Reading Files"
      ],
      "metadata": {
        "id": "D9t-M1ZMJFOx"
      }
    },
    {
      "cell_type": "code",
      "source": [
        "# reading in a file from local computer or directly from a URL\n",
        "\n",
        "# various file formats that can be read in out wrote out\n",
        "‘’’\n",
        "Format Type     Data Description      Reader           Writer\n",
        "text                  CSV            read_csv          to_csv\n",
        "text                 JSON            read_json         to_json\n",
        "text                 HTML            read_html         to_html\n",
        "text             Local clipboard  read_clipboard     to_clipboard\n",
        "binary             MS Excel          read_excel        to_excel\n",
        "binary            HDF5 Format        read_hdf           to_hdf\n",
        "binary           Feather Format     read_feather      to_feather\n",
        "binary              Msgpack         read_msgpack      to_msgpack\n",
        "binary               Stata           read_stata        to_stata\n",
        "binary                SAS             read_sas \n",
        "binary        Python Pickle Format   read_pickle       to_pickle\n",
        "SQL                   SQL             read_sql          to_sql\n",
        "SQL             Google Big Query      read_gbq          to_gbq\n",
        "‘’’\n",
        "\n",
        "# to read about different types of files, and further functionality of reading in files, visit: http://pandas.pydata.org/pandas-docs/version/0.20/io.html\n",
        "df = pd.read_csv('local_path/file.csv’)\n",
        "df = pd.read_csv('https://file_path/file.csv')\n",
        "\n",
        "# when reading in tables, can specify separators, and note a column to be used as index separators can include tabs (“\\t”), commas(“,”), pipes (“|”), etc.\n",
        "df = pd.read_table('https://file_path/file', sep='|', index_col='column_x')\n"
      ],
      "metadata": {
        "execution": {
          "iopub.status.busy": "2022-12-17T07:08:38.915647Z",
          "iopub.execute_input": "2022-12-17T07:08:38.915972Z",
          "iopub.status.idle": "2022-12-17T07:08:38.924998Z",
          "shell.execute_reply.started": "2022-12-17T07:08:38.915911Z",
          "shell.execute_reply": "2022-12-17T07:08:38.923518Z"
        },
        "trusted": true,
        "id": "98NatsKmJFOx",
        "outputId": "0a7b3b4b-e611-4adf-86a6-8cc934c81659"
      },
      "execution_count": null,
      "outputs": [
        {
          "traceback": [
            "\u001b[0;36m  File \u001b[0;32m\"<ipython-input-21-412e7a98a1e7>\"\u001b[0;36m, line \u001b[0;32m4\u001b[0m\n\u001b[0;31m    ‘’’\u001b[0m\n\u001b[0m      ^\u001b[0m\n\u001b[0;31mSyntaxError\u001b[0m\u001b[0;31m:\u001b[0m invalid character in identifier\n"
          ],
          "ename": "SyntaxError",
          "evalue": "invalid character in identifier (<ipython-input-21-412e7a98a1e7>, line 4)",
          "output_type": "error"
        }
      ]
    },
    {
      "cell_type": "markdown",
      "source": [
        "### Summarizing"
      ],
      "metadata": {
        "id": "s94kZkQKJFOx"
      }
    },
    {
      "cell_type": "code",
      "source": [
        "# examine the df data\n",
        "df           \n",
        "# print the first 30 and last 30 rows\n",
        "type(df)     \n",
        "# DataFrame\n",
        "df.head()    \n",
        "# print the first 5 rows\n",
        "df.head(10)  \n",
        "# print the first 10 rows\n",
        "df.tail()    \n",
        "# print the last 5 rows\n",
        "df.index     \n",
        "# “the index” (aka “the labels”)\n",
        "df.columns   \n",
        "# column names (which is “an index”)\n",
        "df.dtypes    \n",
        "# data types of each column\n",
        "df.shape\n",
        "# display only the number of rows\n",
        "df.shape[0]\n",
        "# number of rows and columns\n",
        "df.values    \n",
        "# underlying numpy array — df are stored as numpy arrays for effeciencies.\n",
        "\n",
        "# summarize (describe) the DataFrame\n",
        "# describe all numeric columns\n",
        "df.describe()\n",
        "\n",
        "# describe all object columns\n",
        "df.describe(include=['object'])\n",
        "\n",
        "# describe all columns\n",
        "df.describe(include='all')"
      ],
      "metadata": {
        "execution": {
          "iopub.status.busy": "2022-12-17T07:08:38.926711Z",
          "iopub.status.idle": "2022-12-17T07:08:38.927599Z"
        },
        "trusted": true,
        "id": "j2b2RhuJJFOy"
      },
      "execution_count": null,
      "outputs": []
    },
    {
      "cell_type": "markdown",
      "source": [
        "### Working with Columns"
      ],
      "metadata": {
        "id": "a1X74ecbJFOy"
      }
    },
    {
      "cell_type": "code",
      "source": [
        "# select a column\n",
        "df['column_y']         \n",
        "# select one column\n",
        "type(df['column_y'])   \n",
        "# determine datatype of column (e.g., Series)\n",
        "df.column_y            \n",
        "# select one column using the DataFrame attribute — not effective if column names have spaces\n",
        "\n",
        "# summarize a Series/column\n",
        "df.column_y.describe()   \n",
        "# describe a single column\n",
        "df.column_z.mean()       \n",
        "# only calculate the mean\n",
        "df[“column_z”].mean()    \n",
        "# alternate method for calculating mean\n",
        "\n",
        "# count the number of occurrences of each value\n",
        "df.column_y.value_counts()   \n",
        "# most useful for categorical variables, but can also be used with numeric variables\n",
        "\n",
        "# filter df by one column, and print out values of another column\n",
        "# when using numeric values, no quotations\n",
        "df[df.column_y == “string_value”].column_z\n",
        "df[df.column_y == 20 ].column_z    \n",
        " \n",
        "# display the 3 most frequent occurances of column in ‘df’\n",
        "df.column_y.value_counts()[0:3]"
      ],
      "metadata": {
        "_kg_hide-output": true,
        "execution": {
          "iopub.status.busy": "2022-12-17T07:08:38.930019Z",
          "iopub.status.idle": "2022-12-17T07:08:38.930737Z"
        },
        "trusted": true,
        "id": "62XYWheTJFOy"
      },
      "execution_count": null,
      "outputs": []
    },
    {
      "cell_type": "markdown",
      "source": [
        "### Filtering and Sorting"
      ],
      "metadata": {
        "id": "XAQb-HBTJFOy"
      }
    },
    {
      "cell_type": "code",
      "source": [
        "# boolean filtering: only show df with column_z < 20\n",
        "filter_bool = df.column_z < 20    \n",
        "# create a Series of booleans…\n",
        "df[filter_bool]                \n",
        "# …and use that Series to filter rows\n",
        "df[filter_bool].describe()     \n",
        "# describes a data frame filtered by filter_bool\n",
        "df[df.column_z < 20]           \n",
        "# or, combine into a single step\n",
        "df[df.column_z < 20].column_x  \n",
        "# select one column from the filtered results\n",
        "df[df[“column_z”] < 20].column_x     \n",
        "# alternate method \n",
        "df[df.column_z < 20].column_x.value_counts()   \n",
        "# value_counts of resulting Series, can also use .mean(), etc. instead of .value_counts()\n",
        "\n",
        "# boolean filtering with multiple conditions; indexes are in square brackets, conditions are in parens\n",
        "df[(df.column_z < 20) & (df.column_y==’string’)] \n",
        "# ampersand for AND condition \n",
        "df[(df.column_z < 20) | (df.column_z > 60)] \n",
        "# pipe for OR condition\n",
        "\n",
        "# can also filter df using pandas.Series.isin \n",
        "df[df.column_x.isin([“string_1”, “string_2”])]\n",
        "\n",
        "# display a cross-tabulation of two Series\n",
        "pd.crosstab(df.column_x, df.column_y)\n",
        "\n",
        "# alternative syntax for boolean filtering (noted as “experimental” in the documentation)\n",
        "df.query('column_z < 20') \n",
        "# df[df.column_z < 20]\n",
        "df.query(\"column_z < 20 and column_y=='string'\")  \n",
        "# df[(df.column_z < 20) & (df.column_y==’string’)]\n",
        "df.query('column_z < 20 or column_z > 60')        \n",
        "# df[(df.column_z < 20) | (df.column_z > 60)]"
      ],
      "metadata": {
        "_kg_hide-output": true,
        "execution": {
          "iopub.status.busy": "2022-12-17T07:08:38.932216Z",
          "iopub.status.idle": "2022-12-17T07:08:38.933297Z"
        },
        "trusted": true,
        "id": "u3PYi4_sJFOz"
      },
      "execution_count": null,
      "outputs": []
    },
    {
      "cell_type": "markdown",
      "source": [
        "### Sorting"
      ],
      "metadata": {
        "id": "ZXMYDy-mJFOz"
      }
    },
    {
      "cell_type": "code",
      "source": [
        "# sorting\n",
        "df.column_z.order()          \n",
        "# sort a column\n",
        "df.sort_values(‘column_z’)   \n",
        "# sort a DataFrame by a single column\n",
        "df.sort_values(‘column_z’, ascending=False)     \n",
        "# use descending order instead\n",
        "\n",
        "# Sort dataframe by multiple columns\n",
        "df = df.sort([‘col1’,’col2',’col3'],ascending=[1,1,0])"
      ],
      "metadata": {
        "_kg_hide-output": true,
        "execution": {
          "iopub.status.busy": "2022-12-17T07:08:38.934944Z",
          "iopub.status.idle": "2022-12-17T07:08:38.935971Z"
        },
        "trusted": true,
        "id": "LjZobIEzJFOz"
      },
      "execution_count": null,
      "outputs": []
    },
    {
      "cell_type": "markdown",
      "source": [
        "### Selecting Multiple Columns and Filtering Rows"
      ],
      "metadata": {
        "id": "4hqGEo2HJFOz"
      }
    },
    {
      "cell_type": "code",
      "source": [
        "# select multiple columns\n",
        "my_cols = [‘column_x’, ‘column_y’]  \n",
        "# create a list of column names…\n",
        "df[my_cols]                   \n",
        "# …and use that list to select columns\n",
        "df[[‘column_x’, ‘column_y’]]  \n",
        "# or, combine into a single step — double brackets due to indexing a list.\n",
        "\n",
        "# use loc to select columns by name\n",
        "df.loc[:, ‘column_x’]    \n",
        "# colon means “all rows”, then select one column\n",
        "df.loc[:, [‘column_x’, ‘column_y’]]  \n",
        "# select two columns\n",
        "df.loc[:, ‘column_x’:’column_y’]     \n",
        "# select a range of columns (i.e., selects all columns including first through last specified)\n",
        "\n",
        "# loc can also filter rows by “name” (the index)\n",
        "df.loc[0, :]       \n",
        "# row 0, all columns\n",
        "df.loc[0:2, :]     \n",
        "# rows 0/1/2, all columns\n",
        "df.loc[0:2, ‘column_x’:’column_y’] \n",
        "# rows 0/1/2, range of columns\n",
        "\n",
        "# use iloc to filter rows and select columns by integer position\n",
        "df.iloc[:, [0, 3]]     \n",
        "# all rows, columns in position 0/3\n",
        "df.iloc[:, 0:4]        \n",
        "# all rows, columns in position 0/1/2/3\n",
        "df.iloc[0:3, :]        \n",
        "# rows in position 0/1/2, all columns\n",
        "\n",
        "#filtering out and dropping rows based on condition (e.g., where column_x values are null)\n",
        "drop_rows = df[df[“column_x”].isnull()]\n",
        "new_df = df[~df.isin(drop_rows)].dropna(how=’all’)"
      ],
      "metadata": {
        "_kg_hide-output": true,
        "execution": {
          "iopub.status.busy": "2022-12-17T07:08:38.937630Z",
          "iopub.status.idle": "2022-12-17T07:08:38.938317Z"
        },
        "trusted": true,
        "id": "q8UIsNPmJFOz"
      },
      "execution_count": null,
      "outputs": []
    },
    {
      "cell_type": "markdown",
      "source": [
        "### Renaming, Adding, and Removing Columns"
      ],
      "metadata": {
        "id": "0VMPRpWTJFOz"
      }
    },
    {
      "cell_type": "code",
      "source": [
        "# rename one or more columns\n",
        "df.rename(columns={‘original_column_1’:’column_x’, ‘original_column_2’:’column_y’}, inplace=True) \n",
        "# saves changes \n",
        "\n",
        "# replace all column names (in place)\n",
        "new_cols = [‘column_x’, ‘column_y’, ‘column_z’]\n",
        "df.columns = new_cols\n",
        "\n",
        "# replace all column names when reading the file\n",
        "df = pd.read_csv(‘df.csv’, header=0, names=new_cols)\n",
        "\n",
        "# add a new column as a function of existing columns\n",
        "df[‘new_column_1’] = df.column_x + df.column_y\n",
        "df[‘new_column_2’] = df.column_x * 1000   \n",
        "#can create new columns without for loops\n",
        "\n",
        "# removing columns\n",
        "df.drop(‘column_x’, axis=1)   \n",
        "# axis=0 for rows, 1 for columns — does not drop in place\n",
        "df.drop([‘column_x’, ‘column_y’], axis=1, inplace=True) \n",
        "# drop multiple columns"
      ],
      "metadata": {
        "_kg_hide-output": true,
        "execution": {
          "iopub.status.busy": "2022-12-17T07:08:38.940287Z",
          "iopub.status.idle": "2022-12-17T07:08:38.940851Z"
        },
        "trusted": true,
        "id": "c5-RiXZXJFOz"
      },
      "execution_count": null,
      "outputs": []
    },
    {
      "cell_type": "markdown",
      "source": [
        "### Lower-case all DataFrame column names"
      ],
      "metadata": {
        "id": "Dc1YLaEKJFOz"
      }
    },
    {
      "cell_type": "code",
      "source": [
        "# Lower-case all DataFrame column names\n",
        "df.columns = map(str.lower, df.columns)\n",
        "\n",
        "# Even more fancy DataFrame column re-naming\n",
        "# lower-case all DataFrame column names (for example)\n",
        "df.rename(columns=lambda x: x.split('.')[-1], inplace=True)"
      ],
      "metadata": {
        "_kg_hide-output": true,
        "execution": {
          "iopub.status.busy": "2022-12-17T07:08:38.941752Z",
          "iopub.status.idle": "2022-12-17T07:08:38.942103Z"
        },
        "trusted": true,
        "id": "VwpG0Hk8JFOz"
      },
      "execution_count": null,
      "outputs": []
    },
    {
      "cell_type": "markdown",
      "source": [
        "### Handling Missing Values"
      ],
      "metadata": {
        "id": "4EsCd__wJFOz"
      }
    },
    {
      "cell_type": "code",
      "source": [
        "# missing values are usually excluded by default\n",
        "df.column_x.value_counts()             \n",
        "# excludes missing values\n",
        "\n",
        "df.column_x.value_counts(dropna=False) \n",
        "# includes missing values\n",
        "\n",
        "# find missing values in a Series\n",
        "df.column_x.isnull()  \n",
        "# True if missing\n",
        "\n",
        "df.column_x.notnull() \n",
        "# True if not missing\n",
        "\n",
        "# use a boolean Series to filter DataFrame rows\n",
        "df[df.column_x.isnull()]  \n",
        "# only show rows where column_x is missing\n",
        "\n",
        "df[df.column_x.notnull()] \n",
        "# only show rows where column_x is not missing\n",
        "\n",
        "# understanding axes\n",
        "df.sum()       \n",
        "# sums “down” the 0 axis (rows)\n",
        "\n",
        "df.sum(axis=0) \n",
        "# equivalent (since axis=0 is the default)\n",
        "\n",
        "df.sum(axis=1) \n",
        "# sums “across” the 1 axis (columns)\n",
        "\n",
        "# adding booleans\n",
        "pd.Series([True, False, True])       \n",
        "# create a boolean Series\n",
        "pd.Series([True, False, True]).sum() \n",
        "# converts False to 0 and True to 1\n",
        "\n",
        "# find missing values in a DataFrame\n",
        "df.isnull() \n",
        "# DataFrame of booleans\n",
        "df.isnull().sum() \n",
        "# count the missing values in each column\n",
        "\n",
        "# drop missing values\n",
        "df.dropna(inplace=True)   \n",
        "# drop a row if ANY values are missing, defaults to rows, but can be applied to columns with axis=1\n",
        "df.dropna(how=’all’, inplace=True)  \n",
        "# drop a row only if ALL values are missing\n",
        "\n",
        "# fill in missing values\n",
        "df.column_x.fillna(value=’NA’, inplace=True) \n",
        "\n",
        "# fill in missing values with ‘NA’\n",
        "# value does not have to equal a string — can be set as some calculated value like df.column_x.mode(), or just a number like 0 \n",
        "\n",
        "# turn off the missing value filter\n",
        "df = pd.read_csv(‘df.csv’, header=0, names=new_cols, na_filter=False)\n",
        "\n",
        "# Clean up missing values in multiple DataFrame columns\n",
        "df = df.fillna({\n",
        " ‘col1’: ‘missing’,\n",
        " ‘col2’: ‘99.999’,\n",
        " ‘col3’: ‘999’,\n",
        " ‘col4’: ‘missing’,\n",
        " ‘col5’: ‘missing’,\n",
        " ‘col6’: ‘99’\n",
        "})\n",
        "\n",
        "# Concatenate two DataFrame columns into a new, single column - (useful when dealing with composite keys, for example)\n",
        "df[‘newcol’] = df[‘col1’].map(str) + df[‘col2’].map(str)\n",
        "\n",
        "# Doing calculations with DataFrame columns that have missing values\n",
        "\n",
        "# In example below, swap in 0 for df[‘col1’] cells that contain null\n",
        "df[‘new_col’] = np.where(pd.isnull(df[‘col1’]),0,df[‘col1’]) + df[‘col2’]"
      ],
      "metadata": {
        "_kg_hide-output": true,
        "execution": {
          "iopub.status.busy": "2022-12-17T07:08:38.942969Z",
          "iopub.status.idle": "2022-12-17T07:08:38.943288Z"
        },
        "trusted": true,
        "id": "n_3u1WjYJFOz"
      },
      "execution_count": null,
      "outputs": []
    },
    {
      "cell_type": "markdown",
      "source": [
        "### Handling Duplicated Values"
      ],
      "metadata": {
        "id": "SHRMbfzTJFOz"
      }
    },
    {
      "cell_type": "code",
      "source": [
        "# detecting duplicate rows\n",
        "df.duplicated()\n",
        "\n",
        "# True if a row is identical to a previous row\n",
        "df.duplicated().sum()\n",
        "\n",
        "# count of duplicates\n",
        "df[df.duplicated()]\n",
        "\n",
        "# only show duplicates\n",
        "df.drop_duplicates()\n",
        "\n",
        "# drop duplicate rows\n",
        "df.column_z.duplicated()\n",
        "\n",
        "# check a single column for duplicates\n",
        "df.duplicated([‘column_x’, ‘column_y’, ‘column_z’]).sum()  \n",
        "# specify columns for finding duplicates"
      ],
      "metadata": {
        "_kg_hide-output": true,
        "execution": {
          "iopub.status.busy": "2022-12-17T07:08:39.045493Z",
          "iopub.execute_input": "2022-12-17T07:08:39.045831Z",
          "iopub.status.idle": "2022-12-17T07:08:39.053168Z",
          "shell.execute_reply.started": "2022-12-17T07:08:39.045760Z",
          "shell.execute_reply": "2022-12-17T07:08:39.051921Z"
        },
        "trusted": true,
        "id": "gs59JxWMJFOz",
        "outputId": "0bfe2a58-dd8b-40bf-88dc-eeafe2115144"
      },
      "execution_count": null,
      "outputs": [
        {
          "traceback": [
            "\u001b[0;36m  File \u001b[0;32m\"<ipython-input-22-3c97d631068e>\"\u001b[0;36m, line \u001b[0;32m17\u001b[0m\n\u001b[0;31m    df.duplicated([‘column_x’, ‘column_y’, ‘column_z’]).sum()\u001b[0m\n\u001b[0m                            ^\u001b[0m\n\u001b[0;31mSyntaxError\u001b[0m\u001b[0;31m:\u001b[0m invalid character in identifier\n"
          ],
          "ename": "SyntaxError",
          "evalue": "invalid character in identifier (<ipython-input-22-3c97d631068e>, line 17)",
          "output_type": "error"
        }
      ]
    },
    {
      "cell_type": "markdown",
      "source": [
        "### Split-Apply-Combine\n",
        "<img src=\"http://i.imgur.com/yjNkiwL.png\">"
      ],
      "metadata": {
        "id": "OHusxlfHJFOz"
      }
    },
    {
      "cell_type": "code",
      "source": [
        "# for each value in column_x, calculate the mean column_y \n",
        "df.groupby(‘column_x’).column_y.mean()\n",
        "\n",
        "# for each value in column_x, count the number of occurrences\n",
        "df.column_x.value_counts()\n",
        "\n",
        "# for each value in column_x, describe column_y\n",
        "df.groupby(‘column_x’).column_y.describe()\n",
        "\n",
        "# similar, but outputs a DataFrame and can be customized\n",
        "df.groupby(‘column_x’).column_y.agg([‘count’, ‘mean’, ‘min’, ‘max’])\n",
        "df.groupby(‘column_x’).column_y.agg([‘count’, ‘mean’, ‘min’, ‘max’]).sort_values(‘mean’)\n",
        "\n",
        "# if you don’t specify a column to which the aggregation function should be applied, it will be applied to all numeric columns\n",
        "df.groupby(‘column_x’).mean()\n",
        "df.groupby(‘column_x’).describe()\n",
        "\n",
        "# can also groupby a list of columns, i.e., for each combination of column_x and column_y, calculate the mean column_z\n",
        "df.groupby([“column_x”,”column_y”]).column_z.mean()\n",
        "\n",
        "#to take groupby results out of hierarchical index format (e.g., present as table), use .unstack() method\n",
        "df.groupby(“column_x”).column_y.value_counts().unstack()\n",
        "\n",
        "#conversely, if you want to transform a table into a hierarchical index, use the .stack() method\n",
        "df.stack()"
      ],
      "metadata": {
        "_kg_hide-output": true,
        "execution": {
          "iopub.status.busy": "2022-12-17T07:08:39.054166Z",
          "iopub.status.idle": "2022-12-17T07:08:39.054796Z"
        },
        "trusted": true,
        "id": "rm4SlcuhJFO0"
      },
      "execution_count": null,
      "outputs": []
    },
    {
      "cell_type": "markdown",
      "source": [
        "### Merging and Concatenating Dataframes"
      ],
      "metadata": {
        "id": "vQRgh_TzJFO0"
      }
    },
    {
      "cell_type": "code",
      "source": [
        "#concatenating two dfs together (just smooshes them together, does not pair them in any meaningful way) - axis=1 concats df2 to right side of df1; axis=0 concats df2 to bottom of df1\n",
        "new_df = pd.concat([df1, df2], axis=1)\n",
        "\n",
        "#merging dfs based on paired columns; columns do not need to have same name, but should match values; left_on column comes from df1, right_on column comes from df2\n",
        "new_df = pd.merge(df1, df2, left_on=’column_x’, right_on=’column_y’)\n",
        "\n",
        "#can also merge slices of dfs together, though slices need to include columns used for merging\n",
        "new_df = pd.merge(df1[[‘column_x1’, ‘column_x2’]], df2, left_on=’column_x2', right_on=’column_y’)\n",
        "\n",
        "#merging two dataframes based on shared index values (left is df1, right is df2)\n",
        "new_df = pd.merge(df1, df2, left_index=True, right_index=True)"
      ],
      "metadata": {
        "_kg_hide-output": true,
        "execution": {
          "iopub.status.busy": "2022-12-17T07:08:39.056136Z",
          "iopub.status.idle": "2022-12-17T07:08:39.056739Z"
        },
        "trusted": true,
        "id": "f8rDMwPjJFO0"
      },
      "execution_count": null,
      "outputs": []
    },
    {
      "cell_type": "markdown",
      "source": [
        "### Frequently Used Features"
      ],
      "metadata": {
        "id": "fbgAOA3FJFO0"
      }
    },
    {
      "cell_type": "markdown",
      "source": [
        "#### map existing values to a different set of values"
      ],
      "metadata": {
        "id": "iri9MnqvJFO0"
      }
    },
    {
      "cell_type": "code",
      "source": [
        "df[‘column_x’] = df.column_y.map({‘F’:0, ‘M’:1})"
      ],
      "metadata": {
        "_kg_hide-output": true,
        "execution": {
          "iopub.status.busy": "2022-12-17T07:08:39.058315Z",
          "iopub.status.idle": "2022-12-17T07:08:39.059113Z"
        },
        "trusted": true,
        "id": "OacXr010JFO0"
      },
      "execution_count": null,
      "outputs": []
    },
    {
      "cell_type": "markdown",
      "source": [
        "#### encode strings as integer values (automatically starts at 0)"
      ],
      "metadata": {
        "id": "aD4qiza-JFO0"
      }
    },
    {
      "cell_type": "code",
      "source": [
        "df[‘column_x_num’] = df.column_x.factorize()[0]"
      ],
      "metadata": {
        "_kg_hide-output": true,
        "execution": {
          "iopub.status.busy": "2022-12-17T07:08:39.060509Z",
          "iopub.status.idle": "2022-12-17T07:08:39.061263Z"
        },
        "trusted": true,
        "id": "Zc-YLwmnJFO0"
      },
      "execution_count": null,
      "outputs": []
    },
    {
      "cell_type": "markdown",
      "source": [
        "#### determine unique values in a column"
      ],
      "metadata": {
        "id": "kzEGIF1mJFO0"
      }
    },
    {
      "cell_type": "code",
      "source": [
        "df.column_x.nunique() "
      ],
      "metadata": {
        "_kg_hide-output": true,
        "execution": {
          "iopub.status.busy": "2022-12-17T07:08:39.063900Z",
          "iopub.status.idle": "2022-12-17T07:08:39.064689Z"
        },
        "trusted": true,
        "id": "a_1yXsTJJFO0"
      },
      "execution_count": null,
      "outputs": []
    },
    {
      "cell_type": "markdown",
      "source": [
        "#### count the number of unique values"
      ],
      "metadata": {
        "id": "blxY1Mm0JFO0"
      }
    },
    {
      "cell_type": "code",
      "source": [
        "df.column_x.unique()    \n",
        "# returns the unique values"
      ],
      "metadata": {
        "_kg_hide-output": true,
        "execution": {
          "iopub.status.busy": "2022-12-17T07:08:39.066047Z",
          "iopub.status.idle": "2022-12-17T07:08:39.067079Z"
        },
        "trusted": true,
        "id": "Eb8Z0hB0JFO0"
      },
      "execution_count": null,
      "outputs": []
    },
    {
      "cell_type": "markdown",
      "source": [
        "#### replace all instances of a value in a column (must match entire value)"
      ],
      "metadata": {
        "id": "jmB42oDLJFO0"
      }
    },
    {
      "cell_type": "code",
      "source": [
        "df.column_y.replace(‘old_string’, ‘new_string’, inplace=True)"
      ],
      "metadata": {
        "_kg_hide-output": true,
        "execution": {
          "iopub.status.busy": "2022-12-17T07:08:39.171034Z",
          "iopub.execute_input": "2022-12-17T07:08:39.171472Z",
          "iopub.status.idle": "2022-12-17T07:08:39.178400Z",
          "shell.execute_reply.started": "2022-12-17T07:08:39.171388Z",
          "shell.execute_reply": "2022-12-17T07:08:39.177170Z"
        },
        "trusted": true,
        "id": "pZ0lJ0I8JFO0",
        "outputId": "99bc3230-595b-439e-fc3b-799f63bb8ba5"
      },
      "execution_count": null,
      "outputs": [
        {
          "traceback": [
            "\u001b[0;36m  File \u001b[0;32m\"<ipython-input-23-4a600b6217d8>\"\u001b[0;36m, line \u001b[0;32m1\u001b[0m\n\u001b[0;31m    df.column_y.replace(‘old_string’, ‘new_string’, inplace=True)\u001b[0m\n\u001b[0m                                   ^\u001b[0m\n\u001b[0;31mSyntaxError\u001b[0m\u001b[0;31m:\u001b[0m invalid character in identifier\n"
          ],
          "ename": "SyntaxError",
          "evalue": "invalid character in identifier (<ipython-input-23-4a600b6217d8>, line 1)",
          "output_type": "error"
        }
      ]
    },
    {
      "cell_type": "markdown",
      "source": [
        "#### alter values in one column based on values in another column"
      ],
      "metadata": {
        "id": "k-DX82IrJFO0"
      }
    },
    {
      "cell_type": "code",
      "source": [
        "# changes occur in place\n",
        "# can use either .loc or .ix methods\n",
        "df.loc[df[“column_x”] == 5, “column_y”] = 1\n",
        "df.ix[df.column_x == “string_value”, “column_y”] = “new_string_value”"
      ],
      "metadata": {
        "_kg_hide-output": true,
        "execution": {
          "iopub.status.busy": "2022-12-17T07:08:39.179577Z",
          "iopub.status.idle": "2022-12-17T07:08:39.180167Z"
        },
        "trusted": true,
        "id": "dDiMhdalJFO0"
      },
      "execution_count": null,
      "outputs": []
    },
    {
      "cell_type": "markdown",
      "source": [
        "#### transpose data frame (i.e. rows become columns, columns become rows)"
      ],
      "metadata": {
        "id": "r1d5HOmmJFO0"
      }
    },
    {
      "cell_type": "code",
      "source": [
        "df.T"
      ],
      "metadata": {
        "_kg_hide-output": true,
        "execution": {
          "iopub.status.busy": "2022-12-17T07:08:39.181344Z",
          "iopub.status.idle": "2022-12-17T07:08:39.181880Z"
        },
        "trusted": true,
        "id": "Cy9ZAvLFJFO1"
      },
      "execution_count": null,
      "outputs": []
    },
    {
      "cell_type": "markdown",
      "source": [
        "#### string methods are accessed via ‘str’"
      ],
      "metadata": {
        "id": "zqSlzdmYJFO1"
      }
    },
    {
      "cell_type": "code",
      "source": [
        "df.column_y.str.upper()"
      ],
      "metadata": {
        "_kg_hide-output": true,
        "execution": {
          "iopub.status.busy": "2022-12-17T07:08:39.183028Z",
          "iopub.status.idle": "2022-12-17T07:08:39.183584Z"
        },
        "trusted": true,
        "id": "Tal510GXJFO1"
      },
      "execution_count": null,
      "outputs": []
    },
    {
      "cell_type": "markdown",
      "source": [
        "#### converts to uppercase"
      ],
      "metadata": {
        "id": "T0KNu7kfJFO1"
      }
    },
    {
      "cell_type": "code",
      "source": [
        "df.column_y.str.contains(‘value’, na=’False’) \n",
        "# checks for a substring, returns boolean series"
      ],
      "metadata": {
        "_kg_hide-output": true,
        "execution": {
          "iopub.status.busy": "2022-12-17T07:08:39.184554Z",
          "iopub.status.idle": "2022-12-17T07:08:39.185307Z"
        },
        "trusted": true,
        "id": "AMI04QIUJFO1"
      },
      "execution_count": null,
      "outputs": []
    },
    {
      "cell_type": "markdown",
      "source": [
        "#### convert a string to the datetime_column format"
      ],
      "metadata": {
        "id": "JbTscfFVJFO1"
      }
    },
    {
      "cell_type": "code",
      "source": [
        "df[‘time_column’] = pd.to_datetime_column(df.time_column)\n",
        "df.time_column.dt.hour "
      ],
      "metadata": {
        "_kg_hide-output": true,
        "execution": {
          "iopub.status.busy": "2022-12-17T07:08:39.186192Z",
          "iopub.status.idle": "2022-12-17T07:08:39.186701Z"
        },
        "trusted": true,
        "id": "-cNGQfH5JFO1"
      },
      "execution_count": null,
      "outputs": []
    },
    {
      "cell_type": "markdown",
      "source": [
        "#### datetime_column format exposes convenient attributes"
      ],
      "metadata": {
        "id": "dF2vZlqxJFO1"
      }
    },
    {
      "cell_type": "code",
      "source": [
        "(df.time_column.max() — df.time_column.min()).days"
      ],
      "metadata": {
        "_kg_hide-output": true,
        "execution": {
          "iopub.status.busy": "2022-12-17T07:08:39.187548Z",
          "iopub.status.idle": "2022-12-17T07:08:39.188017Z"
        },
        "trusted": true,
        "id": "FwtVrhoSJFO1"
      },
      "execution_count": null,
      "outputs": []
    },
    {
      "cell_type": "markdown",
      "source": [
        "#### boolean filtering with datetime_column format"
      ],
      "metadata": {
        "id": "mAvPOmpxJFO1"
      }
    },
    {
      "cell_type": "code",
      "source": [
        "df[df.time_column > pd.datetime_column(2014, 1, 1)]   \n",
        "# also allows you to do datetime_column “math”"
      ],
      "metadata": {
        "_kg_hide-output": true,
        "execution": {
          "iopub.status.busy": "2022-12-17T07:08:39.189023Z",
          "iopub.status.idle": "2022-12-17T07:08:39.189555Z"
        },
        "trusted": true,
        "id": "vpMJZlZOJFO1"
      },
      "execution_count": null,
      "outputs": []
    },
    {
      "cell_type": "markdown",
      "source": [
        "#### setting and then removing an index, resetting index can help remove hierarchical indexes while preserving the table in its basic structure"
      ],
      "metadata": {
        "id": "6oybG8YoJFO1"
      }
    },
    {
      "cell_type": "code",
      "source": [
        "df.set_index(‘time_column’, inplace=True)\n",
        "df.reset_index(inplace=True)"
      ],
      "metadata": {
        "_kg_hide-output": true,
        "execution": {
          "iopub.status.busy": "2022-12-17T07:08:39.292119Z",
          "iopub.execute_input": "2022-12-17T07:08:39.292695Z",
          "iopub.status.idle": "2022-12-17T07:08:39.298230Z",
          "shell.execute_reply.started": "2022-12-17T07:08:39.292647Z",
          "shell.execute_reply": "2022-12-17T07:08:39.297023Z"
        },
        "trusted": true,
        "id": "qgRxzNXPJFO1",
        "outputId": "8e8aa8fb-3159-4006-c549-865a6354b799"
      },
      "execution_count": null,
      "outputs": [
        {
          "traceback": [
            "\u001b[0;36m  File \u001b[0;32m\"<ipython-input-24-d024c3fae89b>\"\u001b[0;36m, line \u001b[0;32m1\u001b[0m\n\u001b[0;31m    df.set_index(‘time_column’, inplace=True)\u001b[0m\n\u001b[0m                             ^\u001b[0m\n\u001b[0;31mSyntaxError\u001b[0m\u001b[0;31m:\u001b[0m invalid character in identifier\n"
          ],
          "ename": "SyntaxError",
          "evalue": "invalid character in identifier (<ipython-input-24-d024c3fae89b>, line 1)",
          "output_type": "error"
        }
      ]
    },
    {
      "cell_type": "markdown",
      "source": [
        "#### sort a column by its index"
      ],
      "metadata": {
        "id": "BUZao99aJFO1"
      }
    },
    {
      "cell_type": "code",
      "source": [
        "df.column_y.value_counts().sort_index()"
      ],
      "metadata": {
        "_kg_hide-output": true,
        "execution": {
          "iopub.status.busy": "2022-12-17T07:08:39.299347Z",
          "iopub.status.idle": "2022-12-17T07:08:39.299936Z"
        },
        "trusted": true,
        "id": "EuO_UN6jJFO1"
      },
      "execution_count": null,
      "outputs": []
    },
    {
      "cell_type": "markdown",
      "source": [
        "#### change the data type of a column"
      ],
      "metadata": {
        "id": "1pCN5zMnJFO1"
      }
    },
    {
      "cell_type": "code",
      "source": [
        "df[‘column_x’] = df.column_x.astype(‘float’)"
      ],
      "metadata": {
        "_kg_hide-output": true,
        "execution": {
          "iopub.status.busy": "2022-12-17T07:08:39.301239Z",
          "iopub.status.idle": "2022-12-17T07:08:39.301835Z"
        },
        "trusted": true,
        "id": "di9NWA31JFO1"
      },
      "execution_count": null,
      "outputs": []
    },
    {
      "cell_type": "markdown",
      "source": [
        "#### change the data type of a column when reading in a file"
      ],
      "metadata": {
        "id": "Leuj49duJFO1"
      }
    },
    {
      "cell_type": "code",
      "source": [
        "pd.read_csv(‘df.csv’, dtype={‘column_x’:float})"
      ],
      "metadata": {
        "_kg_hide-output": true,
        "execution": {
          "iopub.status.busy": "2022-12-17T07:08:39.302998Z",
          "iopub.status.idle": "2022-12-17T07:08:39.303639Z"
        },
        "trusted": true,
        "id": "ZUhzfsr7JFO2"
      },
      "execution_count": null,
      "outputs": []
    },
    {
      "cell_type": "markdown",
      "source": [
        "#### create dummy variables for ‘column_x’ and exclude first dummy column"
      ],
      "metadata": {
        "id": "yqDmuL4WJFO2"
      }
    },
    {
      "cell_type": "code",
      "source": [
        "column_x_dummies = pd.get_dummies(df.column_x).iloc[:, 1:]"
      ],
      "metadata": {
        "_kg_hide-output": true,
        "execution": {
          "iopub.status.busy": "2022-12-17T07:08:39.304692Z",
          "iopub.status.idle": "2022-12-17T07:08:39.305246Z"
        },
        "trusted": true,
        "id": "5h-WfOEiJFO2"
      },
      "execution_count": null,
      "outputs": []
    },
    {
      "cell_type": "markdown",
      "source": [
        "#### concatenate two DataFrames (axis=0 for rows, axis=1 for columns)"
      ],
      "metadata": {
        "id": "iKj5jE-4JFO2"
      }
    },
    {
      "cell_type": "code",
      "source": [
        "df = pd.concat([df, column_x_dummies], axis=1)"
      ],
      "metadata": {
        "_kg_hide-output": true,
        "execution": {
          "iopub.status.busy": "2022-12-17T07:08:39.306296Z",
          "iopub.status.idle": "2022-12-17T07:08:39.306864Z"
        },
        "trusted": true,
        "id": "5MGkZYf7JFO2"
      },
      "execution_count": null,
      "outputs": []
    },
    {
      "cell_type": "markdown",
      "source": [
        "#### Loop through rows in a DataFrame"
      ],
      "metadata": {
        "id": "da2zPrtwJFO2"
      }
    },
    {
      "cell_type": "code",
      "source": [
        "# Loop through rows in a DataFrame\n",
        "for index, row in df.iterrows():\n",
        " print index, row[‘column_x’]\n",
        "\n",
        "# Much faster way to loop through DataFrame rows if you can work with tuples\n",
        "for row in df.itertuples():\n",
        " print(row)"
      ],
      "metadata": {
        "_kg_hide-output": true,
        "execution": {
          "iopub.status.busy": "2022-12-17T07:08:39.308046Z",
          "iopub.status.idle": "2022-12-17T07:08:39.308581Z"
        },
        "trusted": true,
        "id": "pzon_Ez1JFO2"
      },
      "execution_count": null,
      "outputs": []
    },
    {
      "cell_type": "markdown",
      "source": [
        "#### Get rid of non-numeric values throughout a DataFrame"
      ],
      "metadata": {
        "id": "Fy1mkHgBJFO2"
      }
    },
    {
      "cell_type": "code",
      "source": [
        "for col in df.columns.values:\n",
        " df[col] = df[col].replace(‘[⁰-9]+.-’, ‘’, regex=True)"
      ],
      "metadata": {
        "_kg_hide-output": true,
        "execution": {
          "iopub.status.busy": "2022-12-17T07:08:39.411587Z",
          "iopub.execute_input": "2022-12-17T07:08:39.412034Z",
          "iopub.status.idle": "2022-12-17T07:08:39.419467Z",
          "shell.execute_reply.started": "2022-12-17T07:08:39.411991Z",
          "shell.execute_reply": "2022-12-17T07:08:39.418019Z"
        },
        "trusted": true,
        "id": "2x3BrZDnJFO2",
        "outputId": "48807eb1-3208-4a47-bb58-e80a3143af0d"
      },
      "execution_count": null,
      "outputs": [
        {
          "traceback": [
            "\u001b[0;36m  File \u001b[0;32m\"<ipython-input-25-d446c6ee7346>\"\u001b[0;36m, line \u001b[0;32m2\u001b[0m\n\u001b[0;31m    df[col] = df[col].replace(‘[⁰-9]+.-’, ‘’, regex=True)\u001b[0m\n\u001b[0m                              ^\u001b[0m\n\u001b[0;31mSyntaxError\u001b[0m\u001b[0;31m:\u001b[0m invalid character in identifier\n"
          ],
          "ename": "SyntaxError",
          "evalue": "invalid character in identifier (<ipython-input-25-d446c6ee7346>, line 2)",
          "output_type": "error"
        }
      ]
    },
    {
      "cell_type": "markdown",
      "source": [
        "#### Change all NaNs to None (useful before loading to a db)"
      ],
      "metadata": {
        "id": "CbRwzvD0JFO2"
      }
    },
    {
      "cell_type": "code",
      "source": [
        "df = df.where((pd.notnull(df)), None)"
      ],
      "metadata": {
        "_kg_hide-output": true,
        "execution": {
          "iopub.status.busy": "2022-12-17T07:08:39.420407Z",
          "iopub.status.idle": "2022-12-17T07:08:39.420782Z"
        },
        "trusted": true,
        "id": "bUGGhSjiJFO2"
      },
      "execution_count": null,
      "outputs": []
    },
    {
      "cell_type": "markdown",
      "source": [
        "#### Split delimited values in a DataFrame column into two new columns"
      ],
      "metadata": {
        "id": "_UxVzuN4JFO2"
      }
    },
    {
      "cell_type": "code",
      "source": [
        "df[‘new_col1’], df[‘new_col2’] = zip(*df[‘original_col’].apply(lambda x: x.split(‘: ‘, 1)))"
      ],
      "metadata": {
        "_kg_hide-output": true,
        "execution": {
          "iopub.status.busy": "2022-12-17T07:08:39.421873Z",
          "iopub.status.idle": "2022-12-17T07:08:39.422269Z"
        },
        "trusted": true,
        "id": "OeRBW2ANJFO5"
      },
      "execution_count": null,
      "outputs": []
    },
    {
      "cell_type": "markdown",
      "source": [
        "#### Collapse hierarchical column indexes"
      ],
      "metadata": {
        "id": "BnnZU5mDJFO6"
      }
    },
    {
      "cell_type": "code",
      "source": [
        "df.columns = df.columns.get_level_values(0)"
      ],
      "metadata": {
        "_kg_hide-output": true,
        "execution": {
          "iopub.status.busy": "2022-12-17T07:08:39.423262Z",
          "iopub.status.idle": "2022-12-17T07:08:39.424023Z"
        },
        "trusted": true,
        "id": "AOrK_K_7JFO6"
      },
      "execution_count": null,
      "outputs": []
    },
    {
      "cell_type": "markdown",
      "source": [
        "#### change a Series to the ‘category’ data type (reduces memory usage and increases performance)"
      ],
      "metadata": {
        "id": "w_dDi7RbJFO6"
      }
    },
    {
      "cell_type": "code",
      "source": [
        "df[‘column_y’] = df.column_y.astype(‘category’)"
      ],
      "metadata": {
        "_kg_hide-output": true,
        "execution": {
          "iopub.status.busy": "2022-12-17T07:08:39.426104Z",
          "iopub.status.idle": "2022-12-17T07:08:39.426610Z"
        },
        "trusted": true,
        "id": "he-9v7NpJFO6"
      },
      "execution_count": null,
      "outputs": []
    },
    {
      "cell_type": "markdown",
      "source": [
        "#### temporarily define a new column as a function of existing columns"
      ],
      "metadata": {
        "id": "SrSPUhT3JFO6"
      }
    },
    {
      "cell_type": "code",
      "source": [
        "df.assign(new_column = df.column_x + df.spirit + df.column_y)"
      ],
      "metadata": {
        "_kg_hide-output": true,
        "execution": {
          "iopub.status.busy": "2022-12-17T07:08:39.427428Z",
          "iopub.status.idle": "2022-12-17T07:08:39.427893Z"
        },
        "trusted": true,
        "id": "M_hO_HWgJFO6"
      },
      "execution_count": null,
      "outputs": []
    },
    {
      "cell_type": "markdown",
      "source": [
        "## If you like this kernel, please give it an upvote. Thank you! :)"
      ],
      "metadata": {
        "id": "0m5kU-HuJFO6"
      }
    }
  ]
}